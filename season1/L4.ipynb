{
 "cells": [
  {
   "cell_type": "markdown",
   "id": "internal-trigger",
   "metadata": {},
   "source": [
    "## ДЗ"
   ]
  },
  {
   "cell_type": "markdown",
   "id": "trying-bahrain",
   "metadata": {},
   "source": [
    "1. Напишите функцию, извлекающую корень n-й степени из числа x. По умолчанию def будет извлекать квадратный корень:\n",
    "\n"
   ]
  },
  {
   "cell_type": "code",
   "execution_count": 1,
   "id": "ccf73ef3",
   "metadata": {},
   "outputs": [],
   "source": [
    "def pow_pow(x, n = 2):\n",
    "    return x**(1/n)"
   ]
  },
  {
   "cell_type": "code",
   "execution_count": 2,
   "id": "abda588b",
   "metadata": {},
   "outputs": [
    {
     "data": {
      "text/plain": [
       "3.0"
      ]
     },
     "execution_count": 2,
     "metadata": {},
     "output_type": "execute_result"
    }
   ],
   "source": [
    "pow_pow(9)"
   ]
  },
  {
   "cell_type": "markdown",
   "id": "christian-solution",
   "metadata": {},
   "source": [
    "2. Перепишите ваш код для проверки расширения из прошлого ДЗ в функцию которая принимает список расширений и  имя файла"
   ]
  },
  {
   "cell_type": "code",
   "execution_count": 3,
   "id": "bc6c27c7",
   "metadata": {},
   "outputs": [],
   "source": [
    "def check_ext(filename, extensions = ['png', 'jpg', 'jpeg', 'gif', 'svg']):\n",
    "    ext = filename.split('.')[-1]\n",
    "    if ext in extensions:\n",
    "        print('Расширение файла:', ext)\n",
    "    elif ext == file or ext == '':\n",
    "        print('Расширение файла отсутствует!')\n",
    "    else:\n",
    "        print('Неизвестное расширение.')\n",
    "    return ext"
   ]
  },
  {
   "cell_type": "code",
   "execution_count": 4,
   "id": "6061d0e7",
   "metadata": {},
   "outputs": [
    {
     "name": "stdout",
     "output_type": "stream",
     "text": [
      "Расширение файла: docx\n",
      "docx\n"
     ]
    }
   ],
   "source": [
    "file = 'Моя диссертация.docx'\n",
    "new_ext = ['png', 'jpg', 'jpeg', 'gif', 'svg', 'docx']\n",
    "\n",
    "print(check_ext(file, new_ext))"
   ]
  },
  {
   "cell_type": "markdown",
   "id": "furnished-cookie",
   "metadata": {},
   "source": [
    "3. Слейте воедино три словаря"
   ]
  },
  {
   "cell_type": "code",
   "execution_count": 5,
   "id": "micro-robert",
   "metadata": {},
   "outputs": [],
   "source": [
    "dict_a = {1:10, 2:20}\n",
    "dict_b = {3:30, 4:40}\n",
    "dict_c = {5:50, 6:60}"
   ]
  },
  {
   "cell_type": "code",
   "execution_count": 6,
   "id": "2c3a47df",
   "metadata": {},
   "outputs": [
    {
     "data": {
      "text/plain": [
       "{1: 10, 2: 20, 3: 30, 4: 40, 5: 50, 6: 60}"
      ]
     },
     "execution_count": 6,
     "metadata": {},
     "output_type": "execute_result"
    }
   ],
   "source": [
    "dict_union = dict()\n",
    "for d in [dict_a, dict_b, dict_c]:\n",
    "    dict_union.update(d)\n",
    "    \n",
    "dict_union"
   ]
  },
  {
   "cell_type": "markdown",
   "id": "instructional-belfast",
   "metadata": {},
   "source": [
    "4. Напишите функцию которая будет складывать цифры внутри числа"
   ]
  },
  {
   "cell_type": "code",
   "execution_count": 7,
   "id": "6d2a5beb",
   "metadata": {},
   "outputs": [],
   "source": [
    "def add_internal_digits(number):\n",
    "    try:\n",
    "        result = 0\n",
    "        for digit in str(number):\n",
    "            result += int(digit)\n",
    "        return result\n",
    "    except:\n",
    "        print('Число не распознано!')"
   ]
  },
  {
   "cell_type": "code",
   "execution_count": 8,
   "id": "81839c04",
   "metadata": {},
   "outputs": [
    {
     "data": {
      "text/plain": [
       "18"
      ]
     },
     "execution_count": 8,
     "metadata": {},
     "output_type": "execute_result"
    }
   ],
   "source": [
    "add_internal_digits(82017)"
   ]
  },
  {
   "cell_type": "markdown",
   "id": "strategic-priest",
   "metadata": {},
   "source": [
    "5. Нужно проверить, все ли числа в последовательности уникальны.\n"
   ]
  },
  {
   "cell_type": "code",
   "execution_count": 9,
   "id": "aggregate-tender",
   "metadata": {},
   "outputs": [
    {
     "name": "stdout",
     "output_type": "stream",
     "text": [
      "True\n"
     ]
    }
   ],
   "source": [
    "numbers=[1,4,5]\n",
    "\n",
    "print(numbers == list(set(numbers)))"
   ]
  },
  {
   "cell_type": "markdown",
   "id": "fluid-yield",
   "metadata": {},
   "source": [
    "6.Создать функцию, которая просто печатает все элементы заданного ей списка:\n",
    "\n",
    "     НОМЕР J --> ЗНАЧЕНИЕ\n",
    "     НОМЕР K --> ЗНАЧЕНИЕ\n",
    "    J, K — порядковые номера в списке"
   ]
  },
  {
   "cell_type": "code",
   "execution_count": 10,
   "id": "attractive-vault",
   "metadata": {},
   "outputs": [
    {
     "name": "stdout",
     "output_type": "stream",
     "text": [
      "0 --> я\n",
      "1 --> не\n",
      "2 --> в\n",
      "3 --> отпуск\n"
     ]
    }
   ],
   "source": [
    "def print_list(my_list):\n",
    "    for n,v in enumerate(my_list):\n",
    "        print(n,'-->', v)\n",
    "\n",
    "print_list([\"я\", \"не\", \"в\", \"отпуск\" ])"
   ]
  },
  {
   "cell_type": "code",
   "execution_count": 11,
   "id": "special-contact",
   "metadata": {},
   "outputs": [
    {
     "name": "stdout",
     "output_type": "stream",
     "text": [
      "0 --> еще\n",
      "1 --> один\n",
      "2 --> список\n",
      "3 --> для\n",
      "4 --> проверки\n",
      "5 --> список\n",
      "\n",
      "0 --> 21\n",
      "1 --> {0: 'список с', 2: 'другими типами данных'}\n",
      "2 --> 3.14159\n",
      "3 --> (1, ' > ', '0')\n"
     ]
    }
   ],
   "source": [
    "# Попробуйте позапускать функцию со списками разной длины и убедитесь что всё работает.\n",
    "print_list([\"еще\", \"один\", \"список\", \"для\",'проверки','список' ])\n",
    "print()\n",
    "print_list([21, {0:'список с', 2: 'другими типами данных'}, 3.14159, (1,\" > \", '0') ])"
   ]
  },
  {
   "cell_type": "markdown",
   "id": "incredible-substitute",
   "metadata": {},
   "source": [
    "Создать функцию, которая печатает каждый элемент словарика\n",
    "\n",
    "        КЛЮЧ <<J>> --> ЗНАЧЕНИЕ\n",
    "        КЛЮЧ <<K>> --> ЗНАЧЕНИЕ\n",
    "    J, K — ключи словарика"
   ]
  },
  {
   "cell_type": "code",
   "execution_count": 12,
   "id": "convertible-eagle",
   "metadata": {},
   "outputs": [
    {
     "name": "stdout",
     "output_type": "stream",
     "text": [
      "key1 --> 2\n",
      "key3 --> False\n",
      "Приветствие --> Hello\n"
     ]
    }
   ],
   "source": [
    "def print_dict(my_dict):\n",
    "    for k,v in zip(my_dict.keys(), my_dict.values()):\n",
    "        print(k,'-->',v)\n",
    "\n",
    "print_dict({\"key1\": 2, \"key3\": False, \"Приветствие\": \"Hello\"})"
   ]
  },
  {
   "cell_type": "markdown",
   "id": "radical-shadow",
   "metadata": {},
   "source": [
    "Сделать функцию, которая использует две уже написанные функции следующим образом:\n",
    "\n",
    "    если ЗНАЧЕНИЕ это LIST --> вызывается print_list\n",
    "    если ЗНАЧЕНИЕ это DICT --> вызывается print_dict\n",
    "    во всех других случаях просто выводится ЗНАЧЕНИЕ"
   ]
  },
  {
   "cell_type": "code",
   "execution_count": 13,
   "id": "tribal-cornwall",
   "metadata": {},
   "outputs": [
    {
     "name": "stdout",
     "output_type": "stream",
     "text": [
      "key1 --> 1\n",
      "key2 --> [1, 2, 3, 4]\n",
      "key3 --> Hello\n",
      "key4 --> {'ciao': 'Mondo', 'Привет': 'О дивный мир'}\n"
     ]
    }
   ],
   "source": [
    "def print_overlord(mydict):\n",
    "    if isinstance(mydict, dict):\n",
    "        print_dict(mydict)\n",
    "    elif isinstance(mydict, list):\n",
    "        print_list(mydict)\n",
    "    else:\n",
    "        print(mydict)\n",
    "\n",
    "print_overlord(dict(key1=1,\n",
    "                    key2=[1, 2, 3, 4], \n",
    "                    key3='Hello', \n",
    "                    key4={\"ciao\":\"Mondo\", \"Привет\": \"О дивный мир\"}))"
   ]
  },
  {
   "cell_type": "markdown",
   "id": "friendly-cycling",
   "metadata": {},
   "source": [
    "7. Придумать две темы из IT про которые вам было бы интересно послушать"
   ]
  },
  {
   "cell_type": "markdown",
   "id": "0d1b9886",
   "metadata": {},
   "source": [
    "1) Как максимально быстро влиться в новую компанию и дойти до повышения.\n",
    "2) Тренд на open-source продукты - хайп или новое будущее?"
   ]
  },
  {
   "cell_type": "markdown",
   "id": "subject-spending",
   "metadata": {},
   "source": [
    "### Задачи со звездочкой"
   ]
  },
  {
   "cell_type": "markdown",
   "id": "julian-hacker",
   "metadata": {},
   "source": [
    "1. Сделать функцию, которая на вход получает фразу и печатает все отдельные слова из этой фразы. Операция разбиения строки на составляющие называется токенизацией, это слово нам ещё пригодится в будущем.\n",
    "\n"
   ]
  },
  {
   "cell_type": "markdown",
   "id": "suspended-shaft",
   "metadata": {},
   "source": [
    "OUTPUT:\n",
    "Word1\n",
    "Word2\n",
    ".\n",
    ".\n",
    ".\n",
    "WordN\n",
    "Number or Words: X"
   ]
  },
  {
   "cell_type": "code",
   "execution_count": 15,
   "id": "another-discount",
   "metadata": {},
   "outputs": [
    {
     "name": "stdout",
     "output_type": "stream",
     "text": [
      "Тут\n",
      "фраза\n",
      "с\n",
      "пробелами\n",
      "и\n",
      "я\n",
      "хочу\n",
      "их\n",
      "распечатать\n",
      "по\n",
      "одному\n",
      "на\n",
      "строку\n",
      "и\n",
      "ещё\n",
      "посчитать\n",
      "слова \n",
      "Number of Words: 17\n"
     ]
    }
   ],
   "source": [
    "def word_count(phrase):\n",
    "    print(phrase.replace(' ','\\n'), '\\nNumber of Words:', len(phrase.split(' ')))\n",
    "    \n",
    "word_count(\"Тут фраза с пробелами и я хочу их распечатать по одному на строку и ещё посчитать слова\")"
   ]
  },
  {
   "cell_type": "markdown",
   "id": "typical-chess",
   "metadata": {},
   "source": [
    "2. Модифицировать функцию из предыдущего задания так, чтобы она считала \"вес\" каждого слова, выводя в процентное соотношение во фразе для каждого слова. Проценты печатать с точностью до 2 знаков после запятой.\n",
    "\n",
    "Подсказка: тут придётся два раза пройтись по строке, один раз чтобы посчитать проценты по каждому слову (токену), и другой чтобы уже это всё распечатать. Для вывода двух знаков после запятой посмотрите, например, начало L1.1, там где всякие format symbols, это которые с процентом"
   ]
  },
  {
   "cell_type": "code",
   "execution_count": 16,
   "id": "f139726c",
   "metadata": {},
   "outputs": [
    {
     "name": "stdout",
     "output_type": "stream",
     "text": [
      "Тут  -  4.23%\n",
      "фраза  -  7.04%\n",
      "с  -  1.41%\n",
      "пробелами  -  12.68%\n",
      "и  -  1.41%\n",
      "я  -  1.41%\n",
      "хочу  -  5.63%\n",
      "их  -  2.82%\n",
      "распечатать  -  15.49%\n",
      "по  -  2.82%\n",
      "одному  -  8.45%\n",
      "на  -  2.82%\n",
      "строку  -  8.45%\n",
      "и  -  1.41%\n",
      "ещё  -  4.23%\n",
      "посчитать  -  12.68%\n",
      "слова  -  7.04%\n"
     ]
    }
   ],
   "source": [
    "def word_count(phrase):\n",
    "    l = len(phrase.replace(' ', ''))\n",
    "    for w in phrase.split(' '):\n",
    "        print(w, ' -  {0:.2f}%'.format(len(w)/l*100))\n",
    "        \n",
    "word_count(\"Тут фраза с пробелами и я хочу их распечатать по одному на строку и ещё посчитать слова\")"
   ]
  }
 ],
 "metadata": {
  "kernelspec": {
   "display_name": "Python 3 (ipykernel)",
   "language": "python",
   "name": "python3"
  },
  "language_info": {
   "codemirror_mode": {
    "name": "ipython",
    "version": 3
   },
   "file_extension": ".py",
   "mimetype": "text/x-python",
   "name": "python",
   "nbconvert_exporter": "python",
   "pygments_lexer": "ipython3",
   "version": "3.10.6"
  }
 },
 "nbformat": 4,
 "nbformat_minor": 5
}
