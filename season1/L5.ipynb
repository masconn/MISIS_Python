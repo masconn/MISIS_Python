{
 "cells": [
  {
   "cell_type": "markdown",
   "id": "horizontal-logic",
   "metadata": {},
   "source": [
    "## ДЗ"
   ]
  },
  {
   "cell_type": "markdown",
   "id": "large-distribution",
   "metadata": {},
   "source": [
    "1) Средний балл и список отстающих учеников"
   ]
  },
  {
   "cell_type": "code",
   "execution_count": 1,
   "id": "korean-hungarian",
   "metadata": {},
   "outputs": [],
   "source": [
    "with open('grades.txt', 'w', encoding='utf-8') as grades:\n",
    "    grades.write('''Иванов О. 4\n",
    "Петров И. 3\n",
    "Дмитриев Н. 2\n",
    "Смирнова О. 4\n",
    "Керченских В. 5\n",
    "Котов Д. 2\n",
    "Бирюкова Н. 1\n",
    "Данилов П. 3\n",
    "Аранских В. 5\n",
    "Лемонов Ю. 2\n",
    "Олегова К. 4''')"
   ]
  },
  {
   "cell_type": "code",
   "execution_count": 2,
   "id": "constant-violence",
   "metadata": {},
   "outputs": [
    {
     "name": "stdout",
     "output_type": "stream",
     "text": [
      "Средний балл учащихся: 3.18\n",
      "\n",
      "Список отстающих:\n",
      "Петров И. с оценкой - 3\n",
      "Дмитриев Н. с оценкой - 2\n",
      "Котов Д. с оценкой - 2\n",
      "Бирюкова Н. с оценкой - 1\n",
      "Данилов П. с оценкой - 3\n",
      "Лемонов Ю. с оценкой - 2\n"
     ]
    }
   ],
   "source": [
    "grades = []\n",
    "students = []\n",
    "with open('grades.txt', 'r', encoding='utf-8') as file:\n",
    "    for line in file:\n",
    "        students.append(line[:-3])\n",
    "        grades.append(int(line[-2:].replace('\\n','').replace(' ','')))\n",
    "avg_grade = (round(sum(grades)/len(grades), 2))\n",
    "print('Средний балл учащихся:', avg_grade)\n",
    "print('\\nСписок отстающих:')\n",
    "for st, gr in zip(students, grades):\n",
    "    if gr < avg_grade:\n",
    "        print(st, 'с оценкой -', gr)"
   ]
  },
  {
   "cell_type": "markdown",
   "id": "mature-guide",
   "metadata": {},
   "source": [
    "2) Посчитать количество определенных слов в файле"
   ]
  },
  {
   "cell_type": "code",
   "execution_count": 3,
   "id": "casual-board",
   "metadata": {},
   "outputs": [],
   "source": [
    "with open('schedule.txt', 'w', encoding='utf-8') as schedule:\n",
    "    schedule.write('''Понедельник\n",
    "\tФизика (лекц.)\n",
    "\tФизика (лаб.)\n",
    "\tАлгебра (практ.)\n",
    " \n",
    "Вторник\n",
    "\tГеометрия (лекц.)\n",
    "\tФизика (практ.)\n",
    "\tФизика (лабораторная работа)\n",
    "\tФизкультура (практик.)\n",
    "\n",
    "Среда\n",
    "\tГеометрия (лекц.)\n",
    "\tЛитература (лекция)\n",
    "\tФизика (лаба.)\n",
    "\tФизкультура (практик.)\n",
    "    \n",
    "Четверг\n",
    "\tГеометрия (лекц.)\n",
    "\tМатематика (лаба.)\n",
    "\tФизкультура (практ.)\n",
    "    \n",
    "Пятница\n",
    "\tРусский язык (лекция)\n",
    "\tФизика (практ.)\n",
    "\tГеометрия (лаба.)\n",
    "\tФизкультура (практика)''')"
   ]
  },
  {
   "cell_type": "code",
   "execution_count": 4,
   "id": "af9fd23b",
   "metadata": {},
   "outputs": [],
   "source": [
    "import re\n",
    "with open('schedule.txt', 'r', encoding='utf-8') as file:\n",
    "    text = file.read()\n",
    "    lectures = len(re.findall('лек',text))\n",
    "    practices = len(re.findall('практ',text))\n",
    "    labs = len(re.findall('лаб',text))"
   ]
  },
  {
   "cell_type": "code",
   "execution_count": 5,
   "id": "written-matthew",
   "metadata": {},
   "outputs": [
    {
     "name": "stdout",
     "output_type": "stream",
     "text": [
      "Лекций: 6\n",
      "Практических: 7\n",
      "Лабораторных: 5\n"
     ]
    }
   ],
   "source": [
    "print('Лекций:', lectures)\n",
    "print('Практических:', practices)\n",
    "print('Лабораторных:', labs)"
   ]
  },
  {
   "cell_type": "markdown",
   "id": "young-prince",
   "metadata": {},
   "source": [
    "3) Откройте Telegram, найдите @BotFather и начните беседу. Отправьте команду /newbot и следуйте инструкциям."
   ]
  },
  {
   "cell_type": "markdown",
   "id": "infrared-hamilton",
   "metadata": {},
   "source": [
    "свой токен;\n",
    "адрес Telegram API (https://api.telegram.org/bot);\n",
    "ссылку на документацию.\n",
    "Обязательно сохраните токен, так как это ключ для взаимодействия с ботом."
   ]
  },
  {
   "cell_type": "markdown",
   "id": "vocational-bikini",
   "metadata": {},
   "source": [
    "Хранение токена должно быть локальным: ни в коем случае не выгружайте его в общий доступ, например в GitHub-репозиторий ."
   ]
  },
  {
   "cell_type": "code",
   "execution_count": 6,
   "id": "56fac41e",
   "metadata": {},
   "outputs": [
    {
     "name": "stdout",
     "output_type": "stream",
     "text": [
      "Выполнено!\n"
     ]
    }
   ],
   "source": [
    "print('Выполнено!')"
   ]
  },
  {
   "cell_type": "markdown",
   "id": "banned-substance",
   "metadata": {},
   "source": [
    "4) Выведите список файлов в указанной директории. например где у вас лежат ваши тетради\n",
    "\n"
   ]
  },
  {
   "cell_type": "code",
   "execution_count": 7,
   "id": "86fa2072",
   "metadata": {},
   "outputs": [
    {
     "name": "stdout",
     "output_type": "stream",
     "text": [
      " ’®¬ ў гбва®©бвўҐ C ­Ґ Ё¬ҐҐв ¬ҐвЄЁ.\n",
      " ‘ҐаЁ©­л© ­®¬Ґа в®¬ : 3A6E-95E5\n",
      "\n",
      " ‘®¤Ґа¦Ё¬®Ґ Ї ЇЄЁ C:\\Users\\Aleksandr\\Desktop\\гзҐЎ \\џ§лЄЁ Їа®Ја ¬¬Ёа®ў ­Ёп ¤«п а Ў®вл б Ў®«миЁ¬Ё ¤ ­­л¬Ё\\repository\n",
      "\n",
      "08.11.2022  11:43    <DIR>          .\n",
      "18.10.2022  22:52    <DIR>          ..\n",
      "01.11.2022  20:40    <DIR>          .ipynb_checkpoints\n",
      "08.11.2022  11:43               246 grades.txt\n",
      "18.10.2022  22:56             5я770 L2.ipynb\n",
      "22.10.2022  14:16             3я948 L3 .ipynb\n",
      "01.11.2022  20:28            14я046 L4.ipynb\n",
      "08.11.2022  11:43            10я012 L5.ipynb\n",
      "29.10.2022  12:54         1я157я876 L6.ipynb\n",
      "18.10.2022  22:57                34 README.md\n",
      "08.11.2022  11:43               737 schedule.txt\n",
      "               8 д ©«®ў      1я192я669 Ў ©в\n",
      "               3 Ї Ї®Є  564я613я988я352 Ў ©в бў®Ў®¤­®\n"
     ]
    }
   ],
   "source": [
    "%ls"
   ]
  },
  {
   "cell_type": "markdown",
   "id": "actual-shakespeare",
   "metadata": {},
   "source": [
    "5) Напишите программу, которая принимает текст и выводит два слова: наиболее часто встречающееся и самое длинное."
   ]
  },
  {
   "cell_type": "code",
   "execution_count": 8,
   "id": "8259321a",
   "metadata": {},
   "outputs": [],
   "source": [
    "text = '''Варкалось. Хливкие шорьки\n",
    "Пырялись по наве,\n",
    "И хрюкотали зелюки,\n",
    "Как мюмзики в мове.\n",
    "\n",
    "О, бойся Бармаглота, сын!\n",
    "Он так свирлеп и дик!\n",
    "А в глу́ше ры́мит исполин —\n",
    "Злопастный Брандашмыг!\n",
    "\n",
    "Но взял он меч, и взял он щит,\n",
    "Высоких полон дум.\n",
    "В глущобу путь его лежит\n",
    "Под дерево Тумтум.\n",
    "\n",
    "Он стал под дерево и ждёт.\n",
    "И вдруг граахнул гром —\n",
    "Летит ужасный Бармаглот\n",
    "И пылкает огнём!\n",
    "\n",
    "Раз-два, раз-два! Горит трава,\n",
    "Взы-взы — стрижает меч,\n",
    "Ува! Ува! И голова\n",
    "Барабардает с плеч!\n",
    "\n",
    "О светозарный мальчик мой!\n",
    "Ты победил в бою!\n",
    "О храброславленный герой,\n",
    "Хвалу тебе пою!\n",
    "\n",
    "Варкалось. Хливкие шорьки\n",
    "Пырялись по наве.\n",
    "И хрюкотали зелюки,\n",
    "Как мюмзики в мове.'''"
   ]
  },
  {
   "cell_type": "code",
   "execution_count": 9,
   "id": "71b02601",
   "metadata": {},
   "outputs": [
    {
     "name": "stdout",
     "output_type": "stream",
     "text": [
      "Самое популярное: И\n",
      "Самое длинное: храброславленный\n"
     ]
    }
   ],
   "source": [
    "import re\n",
    "from collections import Counter\n",
    "\n",
    "words = re.split(r'[\\s!\\,\\.:\\—\\?]+', text)\n",
    "print('Самое популярное:', Counter(words).most_common(1)[0][0])\n",
    "print('Самое длинное:', max(words, key = len))"
   ]
  }
 ],
 "metadata": {
  "kernelspec": {
   "display_name": "Python 3 (ipykernel)",
   "language": "python",
   "name": "python3"
  },
  "language_info": {
   "codemirror_mode": {
    "name": "ipython",
    "version": 3
   },
   "file_extension": ".py",
   "mimetype": "text/x-python",
   "name": "python",
   "nbconvert_exporter": "python",
   "pygments_lexer": "ipython3",
   "version": "3.10.6"
  }
 },
 "nbformat": 4,
 "nbformat_minor": 5
}
