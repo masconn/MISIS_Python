{
 "cells": [
  {
   "cell_type": "markdown",
   "id": "small-offense",
   "metadata": {},
   "source": [
    "## ПРАКТИКА (ДЗ)"
   ]
  },
  {
   "cell_type": "markdown",
   "id": "statewide-starter",
   "metadata": {},
   "source": [
    "### Задача 1 Какой месяц\n"
   ]
  },
  {
   "cell_type": "code",
   "execution_count": 1,
   "id": "processed-proposal",
   "metadata": {},
   "outputs": [
    {
     "name": "stdout",
     "output_type": "stream",
     "text": [
      "Октябрь\n"
     ]
    }
   ],
   "source": [
    "month=10\n",
    "month_names = ['Январь','Февраль','Март','Апрель','Май','Июнь','Июль','Август','Сентябрь','Октябрь','Ноябрь','Декабрь']\n",
    "\n",
    "if month in range(1,13):\n",
    "    print(month_names[month-1])"
   ]
  },
  {
   "cell_type": "markdown",
   "id": "touched-acceptance",
   "metadata": {},
   "source": [
    "### Задача 2 Наибольший общий делитель"
   ]
  },
  {
   "cell_type": "code",
   "execution_count": 2,
   "id": "ranking-singing",
   "metadata": {},
   "outputs": [
    {
     "name": "stdout",
     "output_type": "stream",
     "text": [
      "НОД: 4\n"
     ]
    }
   ],
   "source": [
    "a = 600\n",
    "b = 1012\n",
    "\n",
    "while a != 0 and b != 0:\n",
    "    if a >= b:\n",
    "        a %= b\n",
    "    else:\n",
    "        b %= a\n",
    "print(\"НОД:\", max(a,b))"
   ]
  },
  {
   "cell_type": "markdown",
   "id": "objective-overhead",
   "metadata": {},
   "source": [
    "### Задача 3 Проверка расширения файла\n"
   ]
  },
  {
   "cell_type": "code",
   "execution_count": 3,
   "id": "normal-sense",
   "metadata": {},
   "outputs": [
    {
     "name": "stdout",
     "output_type": "stream",
     "text": [
      "Расширение файла: gif\n"
     ]
    }
   ],
   "source": [
    "file='Моя диссертация.gif'\n",
    "extensions = ['png', 'jpg', 'jpeg', 'gif', 'svg']\n",
    "\n",
    "ext = file.split('.')[-1]\n",
    "\n",
    "if ext in extensions:\n",
    "    print('Расширение файла:', ext)\n",
    "elif ext == file or ext == '':\n",
    "    print('Расширение файла отсутствует!')\n",
    "else:\n",
    "    print('Неизвестное расширение.')"
   ]
  },
  {
   "cell_type": "markdown",
   "id": "ahead-bronze",
   "metadata": {},
   "source": [
    "### Задача 4 Високосный Год"
   ]
  },
  {
   "cell_type": "markdown",
   "id": "947eadcc",
   "metadata": {},
   "source": [
    "год, номер которого кратен 400, — високосный;\n",
    "\n",
    "остальные годы, номер которых кратен 100, — невисокосные;\n",
    "\n",
    "остальные годы, номер которых кратен 4, — високосные."
   ]
  },
  {
   "cell_type": "code",
   "execution_count": 4,
   "id": "chief-economy",
   "metadata": {},
   "outputs": [
    {
     "name": "stdout",
     "output_type": "stream",
     "text": [
      "2022 - невисокосный год.\n"
     ]
    }
   ],
   "source": [
    "year=2022\n",
    "\n",
    "if year % 400 == 0 or (year % 100 != 0 and year % 4 == 0):\n",
    "    print(f'{year} - високосный год.')\n",
    "else:\n",
    "    print(f'{year} - невисокосный год.')"
   ]
  }
 ],
 "metadata": {
  "kernelspec": {
   "display_name": "Python 3 (ipykernel)",
   "language": "python",
   "name": "python3"
  },
  "language_info": {
   "codemirror_mode": {
    "name": "ipython",
    "version": 3
   },
   "file_extension": ".py",
   "mimetype": "text/x-python",
   "name": "python",
   "nbconvert_exporter": "python",
   "pygments_lexer": "ipython3",
   "version": "3.10.6"
  }
 },
 "nbformat": 4,
 "nbformat_minor": 5
}
