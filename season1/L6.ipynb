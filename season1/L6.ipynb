{
 "cells": [
  {
   "cell_type": "markdown",
   "id": "d14e1c8f",
   "metadata": {},
   "source": [
    "# ДЗ"
   ]
  },
  {
   "cell_type": "markdown",
   "id": "dimensional-ministry",
   "metadata": {},
   "source": [
    "Задача 1. Напишите программу с классом Student, в котором есть три атрибута: name, groupNumber и age. По умолчанию name = Ivan, age = 18, groupNumber = 10A. Необходимо создать пять методов: getName, getAge, getGroupNumber, setNameAge, setGroupNumber. Метод getName нужен для получения данных об имени конкретного студента, метод getAge нужен для получения данных о возрасте конкретного студента, vетод setGroupNumberнужен для получения данных о номере группы конкретного студента. Метод SetNameAge позволяет изменить данные атрибутов установленных по умолчанию, метод setGroupNumber позволяет изменить номер группы установленный по умолчанию. В программе необходимо создать пять экземпляров класса Student, установить им разные имена, возраст и номер группы.\n",
    "\n"
   ]
  },
  {
   "cell_type": "code",
   "execution_count": 1,
   "id": "40145939",
   "metadata": {},
   "outputs": [],
   "source": [
    "class Student(object):\n",
    "    def __init__(self, name = 'Ivan', groupNumber = '10A', age = 18):\n",
    "        self.name = name\n",
    "        self.groupNumber = groupNumber\n",
    "        self.age = age\n",
    "        \n",
    "    def getName(self):\n",
    "        return self.name\n",
    "        \n",
    "    def getAge(self):\n",
    "        return self.age\n",
    "    \n",
    "    def getGroupNumber(self):\n",
    "        return self.groupNumber\n",
    "        \n",
    "    def setNameAge(self, name, age):\n",
    "        self.name = name\n",
    "        self.age = age\n",
    "        \n",
    "    def setGroupNumber(self, groupNumber):\n",
    "        self.groupNumber = groupNumber"
   ]
  },
  {
   "cell_type": "code",
   "execution_count": 2,
   "id": "be45764f",
   "metadata": {},
   "outputs": [],
   "source": [
    "student1 = Student('Георгий', '4Б', 12)\n",
    "\n",
    "Vasily = Student(name = 'Василевс', age = 24, groupNumber = 'N/A')\n",
    "\n",
    "bad_guy = Student(name = 'Max', age = 42)\n",
    "bad_guy.setGroupNumber('11Ю')\n",
    "\n",
    "Andrew = Student(name = 'Андрей')\n",
    "\n",
    "Mahhamad = Student()\n",
    "Mahhamad.setNameAge(name = 'Mahhamad', age = 6)"
   ]
  },
  {
   "cell_type": "markdown",
   "id": "quality-positive",
   "metadata": {},
   "source": [
    "Задача 2. Напишите программу с классом Car. Создайте конструктор класса Car. Создайте атрибуты класса Car — color (цвет), type (тип), year (год). Напишите пять методов. Первый — запуск автомобиля, при его вызове выводится сообщение «Автомобиль заведен». Второй — отключение автомобиля — выводит сообщение «Автомобиль заглушен». Третий — присвоение автомобилю года выпуска. Четвертый метод — присвоение автомобилю типа. Пятый — присвоение автомобилю цвета.\n",
    "\n"
   ]
  },
  {
   "cell_type": "code",
   "execution_count": 3,
   "id": "1a525700",
   "metadata": {},
   "outputs": [],
   "source": [
    "class Car(object):\n",
    "    def __init__(self, color = 'Black', type = 'N/A', year = 1970):\n",
    "        self.color = color\n",
    "        self.type = type\n",
    "        self.year = year\n",
    "        \n",
    "    def start(self):\n",
    "        print('Автомобиль заведен')\n",
    "        \n",
    "    def stop(self):\n",
    "        print('Автомобиль заглушен')\n",
    "    \n",
    "    def setYear(self, year):\n",
    "        self.year = year\n",
    "        \n",
    "    def setType(self, type):\n",
    "        self.type = type\n",
    "        \n",
    "    def setColor(self, color):\n",
    "        self.color = color"
   ]
  },
  {
   "cell_type": "code",
   "execution_count": 4,
   "id": "3e629c5a",
   "metadata": {},
   "outputs": [
    {
     "name": "stdout",
     "output_type": "stream",
     "text": [
      "Автомобиль заведен\n"
     ]
    }
   ],
   "source": [
    "car = Car(color = 'Red')\n",
    "car.setYear = 2019\n",
    "car.start()"
   ]
  },
  {
   "cell_type": "markdown",
   "id": "familiar-rachel",
   "metadata": {},
   "source": [
    "Задача 3. Допишите функцию Nutrion"
   ]
  },
  {
   "cell_type": "code",
   "execution_count": 5,
   "id": "631f24e4",
   "metadata": {},
   "outputs": [],
   "source": [
    "class NutritionInfo:\n",
    "    def __init__(self, proteins, carbs, fats):\n",
    "        self.proteins = proteins\n",
    "        self.carbs = carbs\n",
    "        self.fats = fats\n",
    "    \n",
    "    def __add__(self, other):\n",
    "        return NutritionInfo(self.proteins + other.proteins, self.carbs + other.carbs, self.fats + other.fats)\n",
    "    \n",
    "    def __str__(self):\n",
    "        return f\"Nutrition p {self.proteins}, c {self.carbs}, f {self.fats}\"\n",
    "    \n",
    "    def __mul__(self, other):\n",
    "        return NutritionInfo(self.proteins * other, self.carbs * other, self.fats * other)\n",
    "        \n",
    "    def energy(self):\n",
    "        return int(self.fats * 9 + (self.carbs + self.proteins) * 4.2)"
   ]
  },
  {
   "cell_type": "code",
   "execution_count": 6,
   "id": "2dc68084",
   "metadata": {},
   "outputs": [
    {
     "name": "stdout",
     "output_type": "stream",
     "text": [
      "Nutrition p 0, c 75, f 0\n"
     ]
    }
   ],
   "source": [
    "apple = NutritionInfo(0, 25, 0)\n",
    "breakfast = apple * 3\n",
    "print(breakfast)"
   ]
  }
 ],
 "metadata": {
  "kernelspec": {
   "display_name": "Python 3 (ipykernel)",
   "language": "python",
   "name": "python3"
  },
  "language_info": {
   "codemirror_mode": {
    "name": "ipython",
    "version": 3
   },
   "file_extension": ".py",
   "mimetype": "text/x-python",
   "name": "python",
   "nbconvert_exporter": "python",
   "pygments_lexer": "ipython3",
   "version": "3.10.6"
  }
 },
 "nbformat": 4,
 "nbformat_minor": 5
}
