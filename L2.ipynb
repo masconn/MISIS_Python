{
 "cells": [
  {
   "cell_type": "markdown",
   "id": "bacterial-appearance",
   "metadata": {},
   "source": [
    "## ДЗ"
   ]
  },
  {
   "cell_type": "markdown",
   "id": "fatty-belfast",
   "metadata": {},
   "source": [
    "##### 1) Сделайте так, чтобы число секунд отображалось в виде дни:часы:минуты:секунды."
   ]
  },
  {
   "cell_type": "code",
   "execution_count": 1,
   "id": "welsh-participation",
   "metadata": {},
   "outputs": [],
   "source": [
    "seconds=100000"
   ]
  },
  {
   "cell_type": "code",
   "execution_count": 2,
   "id": "60f4de50",
   "metadata": {},
   "outputs": [
    {
     "name": "stdout",
     "output_type": "stream",
     "text": [
      "1:3:46:40\n"
     ]
    }
   ],
   "source": [
    "print(':'.join([str(seconds//86400),str(seconds//3600%24),str(seconds//60%60),str(seconds%60)]))"
   ]
  },
  {
   "cell_type": "markdown",
   "id": "disciplinary-semiconductor",
   "metadata": {},
   "source": [
    "##### 2) Напишите калькулятор который запрашивает на входе две переменные и знак, и в соответствии с знаком ( + - * / ) выводит результат"
   ]
  },
  {
   "cell_type": "code",
   "execution_count": 27,
   "id": "58dfa96f",
   "metadata": {},
   "outputs": [
    {
     "name": "stdout",
     "output_type": "stream",
     "text": [
      "Введите переменную а: 21\n",
      "Введите переменную b: 412\n",
      "Введите знак (+-*/): /\n",
      "Результат: 0.050970873786407765\n"
     ]
    }
   ],
   "source": [
    "import re\n",
    "match_sign = r'[\\+\\-\\*\\/]'\n",
    "\n",
    "try:\n",
    "        a = float(input('Введите переменную а: '))\n",
    "        b = float(input('Введите переменную b: '))\n",
    "        sign = re.search(match_sign, input('Введите знак (+-*/): '))\n",
    "        print('Результат: ', end='')\n",
    "        if sign.group(0) == '+':\n",
    "            print(a+b)\n",
    "        elif sign.group(0) == '-':\n",
    "            print(a-b)\n",
    "        elif sign.group(0) == '*':\n",
    "            print(a*b)\n",
    "        elif sign.group(0) == '/':\n",
    "            print(a/b)\n",
    "except:\n",
    "        print('Вы ввели некорректные данные!')"
   ]
  },
  {
   "cell_type": "markdown",
   "id": "a7b099a6",
   "metadata": {},
   "source": [
    "##### 3)Считайте 2 строки и выведите их на печать, разделив символом $."
   ]
  },
  {
   "cell_type": "markdown",
   "id": "c6c5ab0e",
   "metadata": {},
   "source": [
    "Попробуйте решить эту задачу как минимум 2 способами:\n",
    "\n",
    "1) с помощью конкатенации строк\n",
    "2) с помощью указания разделителя в параметре sep метода print"
   ]
  },
  {
   "cell_type": "code",
   "execution_count": 30,
   "id": "930b100e",
   "metadata": {},
   "outputs": [
    {
     "name": "stdout",
     "output_type": "stream",
     "text": [
      "2323fds\n",
      "hhh\n",
      "2323fds&hhh\n",
      "2323fds&hhh\n"
     ]
    }
   ],
   "source": [
    "str1 = input()\n",
    "str2 = input()\n",
    "print(str1+'&'+str2)\n",
    "print(str1,str2,sep='&')"
   ]
  },
  {
   "cell_type": "markdown",
   "id": "e0090b8e",
   "metadata": {},
   "source": [
    "##### 4) Напишите поздравление с Днем рождения, где программа считает имя и возраст и выведет поздравление столько раз, сколько лет именнинику"
   ]
  },
  {
   "cell_type": "code",
   "execution_count": 44,
   "id": "879be3f8",
   "metadata": {},
   "outputs": [
    {
     "name": "stdout",
     "output_type": "stream",
     "text": [
      "Введите свой возраст: 21\n",
      "С днем рождения!\n",
      "С днем рождения!\n",
      "С днем рождения!\n",
      "С днем рождения!\n",
      "С днем рождения!\n",
      "С днем рождения!\n",
      "С днем рождения!\n",
      "С днем рождения!\n",
      "С днем рождения!\n",
      "С днем рождения!\n",
      "С днем рождения!\n",
      "С днем рождения!\n",
      "С днем рождения!\n",
      "С днем рождения!\n",
      "С днем рождения!\n",
      "С днем рождения!\n",
      "С днем рождения!\n",
      "С днем рождения!\n",
      "С днем рождения!\n",
      "С днем рождения!\n",
      "С днем рождения!\n"
     ]
    }
   ],
   "source": [
    "try:\n",
    "    age = int(input('Введите свой возраст: '))\n",
    "    for i in range(0,age):\n",
    "        print('С днем рождения!')\n",
    "except:\n",
    "    print('Вы ввели некорректные данные!')"
   ]
  }
 ],
 "metadata": {
  "celltoolbar": "Отсутствует",
  "kernelspec": {
   "display_name": "Python 3 (ipykernel)",
   "language": "python",
   "name": "python3"
  },
  "language_info": {
   "codemirror_mode": {
    "name": "ipython",
    "version": 3
   },
   "file_extension": ".py",
   "mimetype": "text/x-python",
   "name": "python",
   "nbconvert_exporter": "python",
   "pygments_lexer": "ipython3",
   "version": "3.10.6"
  }
 },
 "nbformat": 4,
 "nbformat_minor": 5
}
