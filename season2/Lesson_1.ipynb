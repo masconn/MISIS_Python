{
 "cells": [
  {
   "cell_type": "markdown",
   "id": "requested-steel",
   "metadata": {},
   "source": [
    "# ДЗ"
   ]
  },
  {
   "cell_type": "markdown",
   "id": "reasonable-hypothesis",
   "metadata": {},
   "source": [
    "###### Задача 1 Связанные списки"
   ]
  },
  {
   "cell_type": "markdown",
   "id": "professional-newton",
   "metadata": {},
   "source": [
    "Напишите функцию (пусть она будет называться reverse_linked_list), которая разворачивает связный список. На вход она принимает головную ноду, а на выход отдаёт хвостовую ноду исходного списка, но только теперь если попробовать пройтись по ней, она будет новой головной. С функцией из примера выше,\n",
    "\n"
   ]
  },
  {
   "cell_type": "code",
   "execution_count": 1,
   "id": "7662258d",
   "metadata": {},
   "outputs": [],
   "source": [
    "class Node(object):\n",
    "    def __init__(self, value=None, next_node=None):\n",
    "        self.value = value\n",
    "        self.next = next_node\n",
    "\n",
    "    def __str__(self):\n",
    "        return f\"[Node with value {self.value}]\"\n",
    "\n",
    "\n",
    "def print_linked_list(head):\n",
    "    cur = head\n",
    "    while cur is not None:\n",
    "        print(cur)\n",
    "        cur = cur.next"
   ]
  },
  {
   "cell_type": "code",
   "execution_count": 2,
   "id": "7eb2a67f",
   "metadata": {},
   "outputs": [],
   "source": [
    "def reverse_linked_list(head):\n",
    "    cur = head\n",
    "    ex = None\n",
    "    while cur is not None:\n",
    "        link = cur.next\n",
    "        cur.next = ex \n",
    "        ex = cur\n",
    "        cur = link\n",
    "    return ex"
   ]
  },
  {
   "cell_type": "code",
   "execution_count": 3,
   "id": "b437bfec",
   "metadata": {},
   "outputs": [
    {
     "name": "stdout",
     "output_type": "stream",
     "text": [
      "[Node with value 1]\n",
      "[Node with value 2]\n",
      "[Node with value 3]\n",
      "[Node with value Внезапно]\n",
      "[Node with value 5]\n",
      "---\n",
      "[Node with value 5]\n",
      "[Node with value Внезапно]\n",
      "[Node with value 3]\n",
      "[Node with value 2]\n",
      "[Node with value 1]\n"
     ]
    }
   ],
   "source": [
    "h, a, b, c, d = Node(1), Node(2), Node(3), Node(\"Внезапно\"), Node(5)\n",
    "\n",
    "h.next = a\n",
    "a.next = b\n",
    "b.next = c\n",
    "c.next = d\n",
    "\n",
    "print_linked_list(h)\n",
    "h = reverse_linked_list(h)\n",
    "print(\"---\")\n",
    "print_linked_list(h)"
   ]
  },
  {
   "cell_type": "markdown",
   "id": "adjustable-footage",
   "metadata": {},
   "source": [
    "Подсказка: вам понадобится \"вспомогательная нода\", куда вы будете переворачивать список. Можете написать вспомотаельную функцию которая \"переворачивает ноду\".\n",
    "\n"
   ]
  },
  {
   "cell_type": "markdown",
   "id": "wooden-advertiser",
   "metadata": {},
   "source": [
    "###### Задача 2 Пузырьки"
   ]
  },
  {
   "cell_type": "markdown",
   "id": "august-technical",
   "metadata": {},
   "source": [
    "Сортировкой пузырьком это один из самых простейших алгоритмов сортировки, который можно придумать. В базовом виде он подразумеват вложенный цикл и реализуется как-то так\n",
    "\n"
   ]
  },
  {
   "cell_type": "code",
   "execution_count": 4,
   "id": "unexpected-gazette",
   "metadata": {},
   "outputs": [
    {
     "name": "stdout",
     "output_type": "stream",
     "text": [
      "[0, 1, 2, 2, 3, 4, 5, 9]\n"
     ]
    }
   ],
   "source": [
    "l = [5, 2, 9, 2, 0, 1, 3, 4]\n",
    "\n",
    "for i in range(len(l)):\n",
    "    for j in range(i, len(l)):\n",
    "        if l[i] > l[j]:\n",
    "            l[i], l[j] = l[j], l[i]\n",
    "\n",
    "print(l)"
   ]
  },
  {
   "cell_type": "markdown",
   "id": "interesting-treaty",
   "metadata": {},
   "source": [
    "Вам предлагается написать функцию, которая будет на вход получать голову несортированного связного списка, а на выход возвращать голову отсортированного.\n",
    "\n"
   ]
  },
  {
   "cell_type": "markdown",
   "id": "balanced-hydrogen",
   "metadata": {},
   "source": [
    "Подсказка: так как в задании ничего не сказано про то, как должна вести себя функция, можете считать что можно просто менять значения, которые лежат в нодах, без замены их указателей. Или можете написать вспомогательную функцию, которая будет менять две ноды местами.\n",
    "\n"
   ]
  },
  {
   "cell_type": "code",
   "execution_count": 5,
   "id": "4c146142",
   "metadata": {},
   "outputs": [],
   "source": [
    "def sort_list(head):\n",
    "    cur = head\n",
    "    while cur.next is not None:\n",
    "        bubble = cur.next\n",
    "        while bubble is not None:\n",
    "            if cur.value > bubble.value:\n",
    "                cur.value, bubble.value = bubble.value, cur.value\n",
    "            bubble = bubble.next\n",
    "        cur = cur.next\n",
    "    return head"
   ]
  },
  {
   "cell_type": "code",
   "execution_count": 6,
   "id": "55b457d7",
   "metadata": {},
   "outputs": [
    {
     "name": "stdout",
     "output_type": "stream",
     "text": [
      "[Node with value 5]\n",
      "[Node with value 2]\n",
      "[Node with value 9]\n",
      "[Node with value 2]\n",
      "[Node with value 0]\n",
      "[Node with value 1]\n",
      "[Node with value 3]\n",
      "[Node with value 4]\n",
      "---\n",
      "[Node with value 0]\n",
      "[Node with value 1]\n",
      "[Node with value 2]\n",
      "[Node with value 2]\n",
      "[Node with value 3]\n",
      "[Node with value 4]\n",
      "[Node with value 5]\n",
      "[Node with value 9]\n"
     ]
    }
   ],
   "source": [
    "h, a, b, c, d, e, f, g = Node(5), Node(2), Node(9), Node(2), Node(0), Node(1), Node(3), Node(4)\n",
    "nodes = [h, a, b, c, d, e, f, g]\n",
    "\n",
    "for i in range(len(nodes[:-1])):\n",
    "    nodes[i].next = nodes[i+1]\n",
    "\n",
    "print_linked_list(h)\n",
    "h = sort_list(h)\n",
    "print(\"---\")\n",
    "print_linked_list(h)"
   ]
  },
  {
   "cell_type": "markdown",
   "id": "hindu-growing",
   "metadata": {
    "ExecuteTime": {
     "end_time": "2022-02-09T10:28:01.309716Z",
     "start_time": "2022-02-09T10:28:01.306412Z"
    }
   },
   "source": [
    "###### Задача 3 Pandas"
   ]
  },
  {
   "cell_type": "code",
   "execution_count": 7,
   "id": "4c3157ea",
   "metadata": {},
   "outputs": [],
   "source": [
    "import pandas as pd\n",
    "import seaborn"
   ]
  },
  {
   "cell_type": "code",
   "execution_count": 8,
   "id": "e1897c61",
   "metadata": {},
   "outputs": [],
   "source": [
    "path = \"data/\""
   ]
  },
  {
   "cell_type": "code",
   "execution_count": 9,
   "id": "8463eb93",
   "metadata": {},
   "outputs": [],
   "source": [
    "tips = pd.read_csv(path+'tips.csv')"
   ]
  },
  {
   "cell_type": "markdown",
   "id": "threatened-longer",
   "metadata": {},
   "source": [
    "1) Выясните, сколько в среднем выходи полный счёт по пятницам на ланч у курящих мужчин (датасет tips)\n"
   ]
  },
  {
   "cell_type": "code",
   "execution_count": 10,
   "id": "a65379f0",
   "metadata": {},
   "outputs": [
    {
     "data": {
      "text/plain": [
       "11.386666666666668"
      ]
     },
     "execution_count": 10,
     "metadata": {},
     "output_type": "execute_result"
    }
   ],
   "source": [
    "tips[(tips.day == 'Fri') \\\n",
    "   & (tips.time == 'Lunch')  \\\n",
    "   & (tips.sex == 'Male')  \\\n",
    "   & (tips.smoker == \"Yes\")]. \\\n",
    "   total_bill.mean()"
   ]
  },
  {
   "cell_type": "markdown",
   "id": "tired-tsunami",
   "metadata": {},
   "source": [
    "2) Загрузите iris и посмотрите разбросы по всем числовым значениям для всех трёх классов цветов (датасет iris)\n"
   ]
  },
  {
   "cell_type": "code",
   "execution_count": 11,
   "id": "8eef2a69",
   "metadata": {},
   "outputs": [],
   "source": [
    "iris = pd.read_csv(path+'iris.csv')"
   ]
  },
  {
   "cell_type": "code",
   "execution_count": 12,
   "id": "7d133344",
   "metadata": {
    "scrolled": false
   },
   "outputs": [
    {
     "data": {
      "image/png": "[encoded data removed]",
      "text/plain": [
       "<Figure size 643x500 with 1 Axes>"
      ]
     },
     "metadata": {},
     "output_type": "display_data"
    },
    {
     "data": {
      "image/png": "[encoded data removed]",
      "text/plain": [
       "<Figure size 643x500 with 1 Axes>"
      ]
     },
     "metadata": {},
     "output_type": "display_data"
    },
    {
     "data": {
      "image/png": "[encoded data removed]",
      "text/plain": [
       "<Figure size 643x500 with 1 Axes>"
      ]
     },
     "metadata": {},
     "output_type": "display_data"
    },
    {
     "data": {
      "image/png": "[encoded data removed]",
      "text/plain": [
       "<Figure size 643x500 with 1 Axes>"
      ]
     },
     "metadata": {},
     "output_type": "display_data"
    }
   ],
   "source": [
    "for col in iris.columns.values[0:4]:\n",
    "    seaborn.displot(data = iris, x = col, binwidth = (iris[col].max()-iris[col].min())/20, hue = \"Name\")"
   ]
  },
  {
   "cell_type": "markdown",
   "id": "excess-colon",
   "metadata": {},
   "source": [
    "3) Создайте новый столбец с плотностью населения. Переименуйте названия первого и третьего столбца на русский язык"
   ]
  },
  {
   "cell_type": "code",
   "execution_count": 13,
   "id": "peaceful-confusion",
   "metadata": {},
   "outputs": [],
   "source": [
    "df = pd.DataFrame({\n",
    "     'country': ['Kazakhstan', 'Russia', 'Belarus', 'Ukraine'],\n",
    "     'population': [17.04, 143.5, 9.5, 45.5],\n",
    "     'square': [2724902, 17125191, 207600, 603628]\n",
    " })"
   ]
  },
  {
   "cell_type": "code",
   "execution_count": 14,
   "id": "grateful-generation",
   "metadata": {},
   "outputs": [],
   "source": [
    "df['density'] = df['population']/df['square']"
   ]
  },
  {
   "cell_type": "code",
   "execution_count": 15,
   "id": "medium-convenience",
   "metadata": {},
   "outputs": [],
   "source": [
    "df = df.rename(columns = {'country':'страна', 'square':'площадь'})"
   ]
  },
  {
   "cell_type": "code",
   "execution_count": 16,
   "id": "2da14575",
   "metadata": {},
   "outputs": [
    {
     "data": {
      "text/html": [
       "<div>\n",
       "<style scoped>\n",
       "    .dataframe tbody tr th:only-of-type {\n",
       "        vertical-align: middle;\n",
       "    }\n",
       "\n",
       "    .dataframe tbody tr th {\n",
       "        vertical-align: top;\n",
       "    }\n",
       "\n",
       "    .dataframe thead th {\n",
       "        text-align: right;\n",
       "    }\n",
       "</style>\n",
       "<table border=\"1\" class=\"dataframe\">\n",
       "  <thead>\n",
       "    <tr style=\"text-align: right;\">\n",
       "      <th></th>\n",
       "      <th>страна</th>\n",
       "      <th>population</th>\n",
       "      <th>площадь</th>\n",
       "      <th>density</th>\n",
       "    </tr>\n",
       "  </thead>\n",
       "  <tbody>\n",
       "    <tr>\n",
       "      <th>0</th>\n",
       "      <td>Kazakhstan</td>\n",
       "      <td>17.04</td>\n",
       "      <td>2724902</td>\n",
       "      <td>0.000006</td>\n",
       "    </tr>\n",
       "    <tr>\n",
       "      <th>1</th>\n",
       "      <td>Russia</td>\n",
       "      <td>143.50</td>\n",
       "      <td>17125191</td>\n",
       "      <td>0.000008</td>\n",
       "    </tr>\n",
       "    <tr>\n",
       "      <th>2</th>\n",
       "      <td>Belarus</td>\n",
       "      <td>9.50</td>\n",
       "      <td>207600</td>\n",
       "      <td>0.000046</td>\n",
       "    </tr>\n",
       "    <tr>\n",
       "      <th>3</th>\n",
       "      <td>Ukraine</td>\n",
       "      <td>45.50</td>\n",
       "      <td>603628</td>\n",
       "      <td>0.000075</td>\n",
       "    </tr>\n",
       "  </tbody>\n",
       "</table>\n",
       "</div>"
      ],
      "text/plain": [
       "       страна  population   площадь   density\n",
       "0  Kazakhstan       17.04   2724902  0.000006\n",
       "1      Russia      143.50  17125191  0.000008\n",
       "2     Belarus        9.50    207600  0.000046\n",
       "3     Ukraine       45.50    603628  0.000075"
      ]
     },
     "execution_count": 16,
     "metadata": {},
     "output_type": "execute_result"
    }
   ],
   "source": [
    "df"
   ]
  }
 ],
 "metadata": {
  "kernelspec": {
   "display_name": "Python 3 (ipykernel)",
   "language": "python",
   "name": "python3"
  },
  "language_info": {
   "codemirror_mode": {
    "name": "ipython",
    "version": 3
   },
   "file_extension": ".py",
   "mimetype": "text/x-python",
   "name": "python",
   "nbconvert_exporter": "python",
   "pygments_lexer": "ipython3",
   "version": "3.10.6"
  },
  "toc": {
   "base_numbering": 1,
   "nav_menu": {},
   "number_sections": true,
   "sideBar": true,
   "skip_h1_title": false,
   "title_cell": "Table of Contents",
   "title_sidebar": "Contents",
   "toc_cell": false,
   "toc_position": {},
   "toc_section_display": true,
   "toc_window_display": false
  },
  "varInspector": {
   "cols": {
    "lenName": 16,
    "lenType": 16,
    "lenVar": 40
   },
   "kernels_config": {
    "python": {
     "delete_cmd_postfix": "",
     "delete_cmd_prefix": "del ",
     "library": "var_list.py",
     "varRefreshCmd": "print(var_dic_list())"
    },
    "r": {
     "delete_cmd_postfix": ") ",
     "delete_cmd_prefix": "rm(",
     "library": "var_list.r",
     "varRefreshCmd": "cat(var_dic_list()) "
    }
   },
   "position": {
    "height": "483.844px",
    "left": "1307.33px",
    "right": "20px",
    "top": "120px",
    "width": "368px"
   },
   "types_to_exclude": [
    "module",
    "function",
    "builtin_function_or_method",
    "instance",
    "_Feature"
   ],
   "window_display": false
  }
 },
 "nbformat": 4,
 "nbformat_minor": 5
}
