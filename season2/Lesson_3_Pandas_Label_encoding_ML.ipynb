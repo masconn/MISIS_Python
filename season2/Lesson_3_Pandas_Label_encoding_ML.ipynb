{
 "cells": [
  {
   "cell_type": "markdown",
   "id": "bibliographic-bride",
   "metadata": {},
   "source": [
    "# ДЗ"
   ]
  },
  {
   "cell_type": "markdown",
   "id": "neural-sentence",
   "metadata": {},
   "source": [
    "Используя  RandomForestClassifier и еще 2 метода МО предсказать будущий  ABC класс на основе любых фичей\n"
   ]
  },
  {
   "cell_type": "code",
   "execution_count": 1,
   "id": "881aaea1",
   "metadata": {},
   "outputs": [],
   "source": [
    "import pandas as pd\n",
    "import numpy as np"
   ]
  },
  {
   "cell_type": "code",
   "execution_count": 2,
   "id": "identified-persian",
   "metadata": {
    "ExecuteTime": {
     "end_time": "2022-02-23T17:43:39.693631Z",
     "start_time": "2022-02-23T17:43:33.847108Z"
    }
   },
   "outputs": [],
   "source": [
    "df_dataset = pd.read_excel('data/DataSet_w_NA.xlsx', sheet_name = \"Испорченные факты\")\n",
    "df_dataset = df_dataset.dropna()"
   ]
  },
  {
   "cell_type": "code",
   "execution_count": 3,
   "id": "coordinated-crazy",
   "metadata": {
    "ExecuteTime": {
     "end_time": "2022-02-23T17:43:41.786845Z",
     "start_time": "2022-02-23T17:43:41.767663Z"
    }
   },
   "outputs": [
    {
     "data": {
      "text/html": [
       "<div>\n",
       "<style scoped>\n",
       "    .dataframe tbody tr th:only-of-type {\n",
       "        vertical-align: middle;\n",
       "    }\n",
       "\n",
       "    .dataframe tbody tr th {\n",
       "        vertical-align: top;\n",
       "    }\n",
       "\n",
       "    .dataframe thead th {\n",
       "        text-align: right;\n",
       "    }\n",
       "</style>\n",
       "<table border=\"1\" class=\"dataframe\">\n",
       "  <thead>\n",
       "    <tr style=\"text-align: right;\">\n",
       "      <th></th>\n",
       "      <th>Номер заказа</th>\n",
       "      <th>Возврат</th>\n",
       "      <th>Дата заказа</th>\n",
       "      <th>Дата отправки</th>\n",
       "      <th>Режим отправки</th>\n",
       "      <th>Факты.Контрагент ID</th>\n",
       "      <th>Факты.Товар ID</th>\n",
       "      <th>Продажи, руб</th>\n",
       "      <th>Продажи, шт</th>\n",
       "      <th>Скидка</th>\n",
       "      <th>Маржинальная прибыль</th>\n",
       "      <th>Повторение заказа</th>\n",
       "      <th>Повторение контрагента</th>\n",
       "      <th>Повторение товара</th>\n",
       "    </tr>\n",
       "  </thead>\n",
       "  <tbody>\n",
       "    <tr>\n",
       "      <th>0</th>\n",
       "      <td>2014-100279</td>\n",
       "      <td>Нет</td>\n",
       "      <td>2015-09-10 00:00:00</td>\n",
       "      <td>2015-09-14 00:00:00</td>\n",
       "      <td>Стандарт</td>\n",
       "      <td>CLNT0000422</td>\n",
       "      <td>PROD0000870</td>\n",
       "      <td>11190.0</td>\n",
       "      <td>2.0</td>\n",
       "      <td>0.0</td>\n",
       "      <td>5371.20</td>\n",
       "      <td>1</td>\n",
       "      <td>7</td>\n",
       "      <td>3</td>\n",
       "    </tr>\n",
       "    <tr>\n",
       "      <th>1</th>\n",
       "      <td>2014-100293</td>\n",
       "      <td>Нет</td>\n",
       "      <td>2015-09-14 00:00:00</td>\n",
       "      <td>2015-09-18 00:00:00</td>\n",
       "      <td>Стандарт</td>\n",
       "      <td>CLNT0000784</td>\n",
       "      <td>PROD0000646</td>\n",
       "      <td>45528.0</td>\n",
       "      <td>6.0</td>\n",
       "      <td>0.2</td>\n",
       "      <td>15934.80</td>\n",
       "      <td>1</td>\n",
       "      <td>4</td>\n",
       "      <td>8</td>\n",
       "    </tr>\n",
       "    <tr>\n",
       "      <th>2</th>\n",
       "      <td>2014-100328</td>\n",
       "      <td>Нет</td>\n",
       "      <td>2015-07-28 00:00:00</td>\n",
       "      <td>2015-08-03 00:00:00</td>\n",
       "      <td>Стандарт</td>\n",
       "      <td>CLNT0000342</td>\n",
       "      <td>PROD0000187</td>\n",
       "      <td>1964.0</td>\n",
       "      <td>1.0</td>\n",
       "      <td>0.2</td>\n",
       "      <td>662.85</td>\n",
       "      <td>1</td>\n",
       "      <td>4</td>\n",
       "      <td>12</td>\n",
       "    </tr>\n",
       "    <tr>\n",
       "      <th>3</th>\n",
       "      <td>2014-100363</td>\n",
       "      <td>Нет</td>\n",
       "      <td>2015-10-08 00:00:00</td>\n",
       "      <td>2015-10-15 00:00:00</td>\n",
       "      <td>Стандарт</td>\n",
       "      <td>CLNT0000146</td>\n",
       "      <td>PROD0001095</td>\n",
       "      <td>1184.0</td>\n",
       "      <td>2.0</td>\n",
       "      <td>0.2</td>\n",
       "      <td>414.40</td>\n",
       "      <td>2</td>\n",
       "      <td>12</td>\n",
       "      <td>7</td>\n",
       "    </tr>\n",
       "    <tr>\n",
       "      <th>4</th>\n",
       "      <td>2014-100363</td>\n",
       "      <td>Нет</td>\n",
       "      <td>2015-10-08 00:00:00</td>\n",
       "      <td>2015-10-15 00:00:00</td>\n",
       "      <td>Стандарт</td>\n",
       "      <td>CLNT0000146</td>\n",
       "      <td>PROD0001616</td>\n",
       "      <td>9504.0</td>\n",
       "      <td>3.0</td>\n",
       "      <td>0.2</td>\n",
       "      <td>3445.20</td>\n",
       "      <td>2</td>\n",
       "      <td>12</td>\n",
       "      <td>3</td>\n",
       "    </tr>\n",
       "  </tbody>\n",
       "</table>\n",
       "</div>"
      ],
      "text/plain": [
       "  Номер заказа Возврат          Дата заказа        Дата отправки  \\\n",
       "0  2014-100279     Нет  2015-09-10 00:00:00  2015-09-14 00:00:00   \n",
       "1  2014-100293     Нет  2015-09-14 00:00:00  2015-09-18 00:00:00   \n",
       "2  2014-100328     Нет  2015-07-28 00:00:00  2015-08-03 00:00:00   \n",
       "3  2014-100363     Нет  2015-10-08 00:00:00  2015-10-15 00:00:00   \n",
       "4  2014-100363     Нет  2015-10-08 00:00:00  2015-10-15 00:00:00   \n",
       "\n",
       "  Режим отправки Факты.Контрагент ID Факты.Товар ID  Продажи, руб  \\\n",
       "0       Стандарт         CLNT0000422    PROD0000870       11190.0   \n",
       "1       Стандарт         CLNT0000784    PROD0000646       45528.0   \n",
       "2       Стандарт         CLNT0000342    PROD0000187        1964.0   \n",
       "3       Стандарт         CLNT0000146    PROD0001095        1184.0   \n",
       "4       Стандарт         CLNT0000146    PROD0001616        9504.0   \n",
       "\n",
       "   Продажи, шт  Скидка  Маржинальная прибыль  Повторение заказа  \\\n",
       "0          2.0     0.0               5371.20                  1   \n",
       "1          6.0     0.2              15934.80                  1   \n",
       "2          1.0     0.2                662.85                  1   \n",
       "3          2.0     0.2                414.40                  2   \n",
       "4          3.0     0.2               3445.20                  2   \n",
       "\n",
       "   Повторение контрагента  Повторение товара  \n",
       "0                       7                  3  \n",
       "1                       4                  8  \n",
       "2                       4                 12  \n",
       "3                      12                  7  \n",
       "4                      12                  3  "
      ]
     },
     "execution_count": 3,
     "metadata": {},
     "output_type": "execute_result"
    }
   ],
   "source": [
    "df_dataset.head()"
   ]
  },
  {
   "cell_type": "code",
   "execution_count": 4,
   "id": "rational-growing",
   "metadata": {
    "ExecuteTime": {
     "end_time": "2022-02-23T17:44:53.212440Z",
     "start_time": "2022-02-23T17:44:53.199260Z"
    }
   },
   "outputs": [
    {
     "name": "stdout",
     "output_type": "stream",
     "text": [
      "<class 'pandas.core.frame.DataFrame'>\n",
      "Int64Index: 9993 entries, 0 to 10292\n",
      "Data columns (total 14 columns):\n",
      " #   Column                  Non-Null Count  Dtype  \n",
      "---  ------                  --------------  -----  \n",
      " 0   Номер заказа            9993 non-null   object \n",
      " 1   Возврат                 9993 non-null   object \n",
      " 2   Дата заказа             9993 non-null   object \n",
      " 3   Дата отправки           9993 non-null   object \n",
      " 4   Режим отправки          9993 non-null   object \n",
      " 5   Факты.Контрагент ID     9993 non-null   object \n",
      " 6   Факты.Товар ID          9993 non-null   object \n",
      " 7   Продажи, руб            9993 non-null   float64\n",
      " 8   Продажи, шт             9993 non-null   float64\n",
      " 9   Скидка                  9993 non-null   float64\n",
      " 10  Маржинальная прибыль    9993 non-null   float64\n",
      " 11  Повторение заказа       9993 non-null   int64  \n",
      " 12  Повторение контрагента  9993 non-null   int64  \n",
      " 13  Повторение товара       9993 non-null   int64  \n",
      "dtypes: float64(4), int64(3), object(7)\n",
      "memory usage: 1.1+ MB\n"
     ]
    }
   ],
   "source": [
    "df_dataset.info()"
   ]
  },
  {
   "cell_type": "code",
   "execution_count": 5,
   "id": "greenhouse-priest",
   "metadata": {
    "ExecuteTime": {
     "end_time": "2022-02-23T17:52:33.302784Z",
     "start_time": "2022-02-23T17:52:33.272197Z"
    }
   },
   "outputs": [],
   "source": [
    "df = pd.pivot_table(df_dataset, values=['Продажи, руб', 'Продажи, шт','Повторение заказа','Маржинальная прибыль','Повторение товара'], index=[\"Факты.Товар ID\"],\n",
    "                     aggfunc={'Продажи, шт': [np.median, np.sum],\n",
    "                              'Продажи, руб': np.sum,\n",
    "                              'Повторение заказа': np.sum,\n",
    "                              'Маржинальная прибыль': np.sum\n",
    "                               })"
   ]
  },
  {
   "cell_type": "code",
   "execution_count": 6,
   "id": "orange-relationship",
   "metadata": {
    "ExecuteTime": {
     "end_time": "2022-02-23T17:52:35.371055Z",
     "start_time": "2022-02-23T17:52:35.358881Z"
    }
   },
   "outputs": [
    {
     "data": {
      "text/html": [
       "<div>\n",
       "<style scoped>\n",
       "    .dataframe tbody tr th:only-of-type {\n",
       "        vertical-align: middle;\n",
       "    }\n",
       "\n",
       "    .dataframe tbody tr th {\n",
       "        vertical-align: top;\n",
       "    }\n",
       "\n",
       "    .dataframe thead tr th {\n",
       "        text-align: left;\n",
       "    }\n",
       "\n",
       "    .dataframe thead tr:last-of-type th {\n",
       "        text-align: right;\n",
       "    }\n",
       "</style>\n",
       "<table border=\"1\" class=\"dataframe\">\n",
       "  <thead>\n",
       "    <tr>\n",
       "      <th></th>\n",
       "      <th>Маржинальная прибыль</th>\n",
       "      <th>Повторение заказа</th>\n",
       "      <th>Продажи, руб</th>\n",
       "      <th colspan=\"2\" halign=\"left\">Продажи, шт</th>\n",
       "    </tr>\n",
       "    <tr>\n",
       "      <th></th>\n",
       "      <th>sum</th>\n",
       "      <th>sum</th>\n",
       "      <th>sum</th>\n",
       "      <th>median</th>\n",
       "      <th>sum</th>\n",
       "    </tr>\n",
       "    <tr>\n",
       "      <th>Факты.Товар ID</th>\n",
       "      <th></th>\n",
       "      <th></th>\n",
       "      <th></th>\n",
       "      <th></th>\n",
       "      <th></th>\n",
       "    </tr>\n",
       "  </thead>\n",
       "  <tbody>\n",
       "    <tr>\n",
       "      <th>PROD0000001</th>\n",
       "      <td>-28160.70</td>\n",
       "      <td>6</td>\n",
       "      <td>631978.5</td>\n",
       "      <td>2.5</td>\n",
       "      <td>12.0</td>\n",
       "    </tr>\n",
       "    <tr>\n",
       "      <th>PROD0000002</th>\n",
       "      <td>963721.00</td>\n",
       "      <td>32</td>\n",
       "      <td>5318764.0</td>\n",
       "      <td>3.5</td>\n",
       "      <td>51.0</td>\n",
       "    </tr>\n",
       "    <tr>\n",
       "      <th>PROD0000003</th>\n",
       "      <td>32200.55</td>\n",
       "      <td>18</td>\n",
       "      <td>76755.0</td>\n",
       "      <td>2.0</td>\n",
       "      <td>23.0</td>\n",
       "    </tr>\n",
       "    <tr>\n",
       "      <th>PROD0000004</th>\n",
       "      <td>-266380.65</td>\n",
       "      <td>17</td>\n",
       "      <td>3621384.0</td>\n",
       "      <td>4.0</td>\n",
       "      <td>29.0</td>\n",
       "    </tr>\n",
       "    <tr>\n",
       "      <th>PROD0000005</th>\n",
       "      <td>31874.40</td>\n",
       "      <td>18</td>\n",
       "      <td>150984.0</td>\n",
       "      <td>5.0</td>\n",
       "      <td>24.0</td>\n",
       "    </tr>\n",
       "  </tbody>\n",
       "</table>\n",
       "</div>"
      ],
      "text/plain": [
       "               Маржинальная прибыль Повторение заказа Продажи, руб  \\\n",
       "                                sum               sum          sum   \n",
       "Факты.Товар ID                                                       \n",
       "PROD0000001               -28160.70                 6     631978.5   \n",
       "PROD0000002               963721.00                32    5318764.0   \n",
       "PROD0000003                32200.55                18      76755.0   \n",
       "PROD0000004              -266380.65                17    3621384.0   \n",
       "PROD0000005                31874.40                18     150984.0   \n",
       "\n",
       "               Продажи, шт        \n",
       "                    median   sum  \n",
       "Факты.Товар ID                    \n",
       "PROD0000001            2.5  12.0  \n",
       "PROD0000002            3.5  51.0  \n",
       "PROD0000003            2.0  23.0  \n",
       "PROD0000004            4.0  29.0  \n",
       "PROD0000005            5.0  24.0  "
      ]
     },
     "execution_count": 6,
     "metadata": {},
     "output_type": "execute_result"
    }
   ],
   "source": [
    "df.head()"
   ]
  },
  {
   "cell_type": "code",
   "execution_count": 7,
   "id": "incomplete-evanescence",
   "metadata": {
    "ExecuteTime": {
     "end_time": "2022-02-23T17:53:02.115756Z",
     "start_time": "2022-02-23T17:53:02.112622Z"
    }
   },
   "outputs": [],
   "source": [
    "df.columns = df.columns.map('_'.join)\n",
    "df = df.reset_index()"
   ]
  },
  {
   "cell_type": "code",
   "execution_count": 8,
   "id": "satellite-disclosure",
   "metadata": {
    "ExecuteTime": {
     "end_time": "2022-02-23T17:53:25.363577Z",
     "start_time": "2022-02-23T17:53:25.352547Z"
    }
   },
   "outputs": [
    {
     "data": {
      "text/html": [
       "<div>\n",
       "<style scoped>\n",
       "    .dataframe tbody tr th:only-of-type {\n",
       "        vertical-align: middle;\n",
       "    }\n",
       "\n",
       "    .dataframe tbody tr th {\n",
       "        vertical-align: top;\n",
       "    }\n",
       "\n",
       "    .dataframe thead th {\n",
       "        text-align: right;\n",
       "    }\n",
       "</style>\n",
       "<table border=\"1\" class=\"dataframe\">\n",
       "  <thead>\n",
       "    <tr style=\"text-align: right;\">\n",
       "      <th></th>\n",
       "      <th>Факты.Товар ID</th>\n",
       "      <th>Маржинальная прибыль_sum</th>\n",
       "      <th>Повторение заказа_sum</th>\n",
       "      <th>Продажи, руб_sum</th>\n",
       "      <th>Продажи, шт_median</th>\n",
       "      <th>Продажи, шт_sum</th>\n",
       "    </tr>\n",
       "  </thead>\n",
       "  <tbody>\n",
       "    <tr>\n",
       "      <th>0</th>\n",
       "      <td>PROD0000001</td>\n",
       "      <td>-28160.70</td>\n",
       "      <td>6</td>\n",
       "      <td>631978.5</td>\n",
       "      <td>2.5</td>\n",
       "      <td>12.0</td>\n",
       "    </tr>\n",
       "    <tr>\n",
       "      <th>1</th>\n",
       "      <td>PROD0000002</td>\n",
       "      <td>963721.00</td>\n",
       "      <td>32</td>\n",
       "      <td>5318764.0</td>\n",
       "      <td>3.5</td>\n",
       "      <td>51.0</td>\n",
       "    </tr>\n",
       "    <tr>\n",
       "      <th>2</th>\n",
       "      <td>PROD0000003</td>\n",
       "      <td>32200.55</td>\n",
       "      <td>18</td>\n",
       "      <td>76755.0</td>\n",
       "      <td>2.0</td>\n",
       "      <td>23.0</td>\n",
       "    </tr>\n",
       "    <tr>\n",
       "      <th>3</th>\n",
       "      <td>PROD0000004</td>\n",
       "      <td>-266380.65</td>\n",
       "      <td>17</td>\n",
       "      <td>3621384.0</td>\n",
       "      <td>4.0</td>\n",
       "      <td>29.0</td>\n",
       "    </tr>\n",
       "    <tr>\n",
       "      <th>4</th>\n",
       "      <td>PROD0000005</td>\n",
       "      <td>31874.40</td>\n",
       "      <td>18</td>\n",
       "      <td>150984.0</td>\n",
       "      <td>5.0</td>\n",
       "      <td>24.0</td>\n",
       "    </tr>\n",
       "  </tbody>\n",
       "</table>\n",
       "</div>"
      ],
      "text/plain": [
       "  Факты.Товар ID  Маржинальная прибыль_sum  Повторение заказа_sum  \\\n",
       "0    PROD0000001                 -28160.70                      6   \n",
       "1    PROD0000002                 963721.00                     32   \n",
       "2    PROD0000003                  32200.55                     18   \n",
       "3    PROD0000004                -266380.65                     17   \n",
       "4    PROD0000005                  31874.40                     18   \n",
       "\n",
       "   Продажи, руб_sum  Продажи, шт_median  Продажи, шт_sum  \n",
       "0          631978.5                 2.5             12.0  \n",
       "1         5318764.0                 3.5             51.0  \n",
       "2           76755.0                 2.0             23.0  \n",
       "3         3621384.0                 4.0             29.0  \n",
       "4          150984.0                 5.0             24.0  "
      ]
     },
     "execution_count": 8,
     "metadata": {},
     "output_type": "execute_result"
    }
   ],
   "source": [
    "df.head()"
   ]
  },
  {
   "cell_type": "code",
   "execution_count": 9,
   "id": "original-accreditation",
   "metadata": {
    "ExecuteTime": {
     "end_time": "2022-02-23T17:53:42.131927Z",
     "start_time": "2022-02-23T17:53:42.128079Z"
    }
   },
   "outputs": [],
   "source": [
    "total_sale = df['Продажи, руб_sum'].sum()"
   ]
  },
  {
   "cell_type": "code",
   "execution_count": 10,
   "id": "working-complement",
   "metadata": {
    "ExecuteTime": {
     "end_time": "2022-02-23T17:53:45.772078Z",
     "start_time": "2022-02-23T17:53:45.767898Z"
    }
   },
   "outputs": [],
   "source": [
    "df['Доля'] = df['Продажи, руб_sum']/total_sale * 100"
   ]
  },
  {
   "cell_type": "code",
   "execution_count": 11,
   "id": "phantom-buddy",
   "metadata": {
    "ExecuteTime": {
     "end_time": "2022-02-23T17:53:48.109398Z",
     "start_time": "2022-02-23T17:53:48.104910Z"
    }
   },
   "outputs": [],
   "source": [
    "df = df.sort_values(by=('Продажи, руб_sum'), ascending=False)"
   ]
  },
  {
   "cell_type": "code",
   "execution_count": 12,
   "id": "38c4ab29",
   "metadata": {},
   "outputs": [
    {
     "data": {
      "text/html": [
       "<div>\n",
       "<style scoped>\n",
       "    .dataframe tbody tr th:only-of-type {\n",
       "        vertical-align: middle;\n",
       "    }\n",
       "\n",
       "    .dataframe tbody tr th {\n",
       "        vertical-align: top;\n",
       "    }\n",
       "\n",
       "    .dataframe thead th {\n",
       "        text-align: right;\n",
       "    }\n",
       "</style>\n",
       "<table border=\"1\" class=\"dataframe\">\n",
       "  <thead>\n",
       "    <tr style=\"text-align: right;\">\n",
       "      <th></th>\n",
       "      <th>Факты.Товар ID</th>\n",
       "      <th>Маржинальная прибыль_sum</th>\n",
       "      <th>Повторение заказа_sum</th>\n",
       "      <th>Продажи, руб_sum</th>\n",
       "      <th>Продажи, шт_median</th>\n",
       "      <th>Продажи, шт_sum</th>\n",
       "      <th>Доля</th>\n",
       "    </tr>\n",
       "  </thead>\n",
       "  <tbody>\n",
       "    <tr>\n",
       "      <th>1388</th>\n",
       "      <td>PROD0001406</td>\n",
       "      <td>1.259996e+07</td>\n",
       "      <td>17</td>\n",
       "      <td>30799912.0</td>\n",
       "      <td>4.0</td>\n",
       "      <td>20.0</td>\n",
       "      <td>2.681845</td>\n",
       "    </tr>\n",
       "    <tr>\n",
       "      <th>450</th>\n",
       "      <td>PROD0000454</td>\n",
       "      <td>3.876520e+06</td>\n",
       "      <td>23</td>\n",
       "      <td>13726692.0</td>\n",
       "      <td>3.0</td>\n",
       "      <td>31.0</td>\n",
       "      <td>1.195226</td>\n",
       "    </tr>\n",
       "    <tr>\n",
       "      <th>1411</th>\n",
       "      <td>PROD0001430</td>\n",
       "      <td>-9.055392e+05</td>\n",
       "      <td>7</td>\n",
       "      <td>11319240.0</td>\n",
       "      <td>6.0</td>\n",
       "      <td>6.0</td>\n",
       "      <td>0.985602</td>\n",
       "    </tr>\n",
       "    <tr>\n",
       "      <th>483</th>\n",
       "      <td>PROD0000488</td>\n",
       "      <td>1.746230e-10</td>\n",
       "      <td>15</td>\n",
       "      <td>10935288.0</td>\n",
       "      <td>5.0</td>\n",
       "      <td>39.0</td>\n",
       "      <td>0.952170</td>\n",
       "    </tr>\n",
       "    <tr>\n",
       "      <th>1176</th>\n",
       "      <td>PROD0001187</td>\n",
       "      <td>1.116753e+06</td>\n",
       "      <td>33</td>\n",
       "      <td>9911739.5</td>\n",
       "      <td>3.0</td>\n",
       "      <td>37.0</td>\n",
       "      <td>0.863046</td>\n",
       "    </tr>\n",
       "    <tr>\n",
       "      <th>...</th>\n",
       "      <td>...</td>\n",
       "      <td>...</td>\n",
       "      <td>...</td>\n",
       "      <td>...</td>\n",
       "      <td>...</td>\n",
       "      <td>...</td>\n",
       "      <td>...</td>\n",
       "    </tr>\n",
       "    <tr>\n",
       "      <th>1838</th>\n",
       "      <td>PROD0001871</td>\n",
       "      <td>1.578500e+03</td>\n",
       "      <td>1</td>\n",
       "      <td>3850.0</td>\n",
       "      <td>2.0</td>\n",
       "      <td>2.0</td>\n",
       "      <td>0.000335</td>\n",
       "    </tr>\n",
       "    <tr>\n",
       "      <th>1854</th>\n",
       "      <td>PROD0001887</td>\n",
       "      <td>1.193400e+03</td>\n",
       "      <td>1</td>\n",
       "      <td>3536.0</td>\n",
       "      <td>2.0</td>\n",
       "      <td>2.0</td>\n",
       "      <td>0.000308</td>\n",
       "    </tr>\n",
       "    <tr>\n",
       "      <th>1747</th>\n",
       "      <td>PROD0001779</td>\n",
       "      <td>1.555200e+03</td>\n",
       "      <td>3</td>\n",
       "      <td>3240.0</td>\n",
       "      <td>1.0</td>\n",
       "      <td>1.0</td>\n",
       "      <td>0.000282</td>\n",
       "    </tr>\n",
       "    <tr>\n",
       "      <th>1675</th>\n",
       "      <td>PROD0001703</td>\n",
       "      <td>1.411200e+03</td>\n",
       "      <td>1</td>\n",
       "      <td>2880.0</td>\n",
       "      <td>2.0</td>\n",
       "      <td>2.0</td>\n",
       "      <td>0.000251</td>\n",
       "    </tr>\n",
       "    <tr>\n",
       "      <th>237</th>\n",
       "      <td>PROD0000239</td>\n",
       "      <td>-2.233000e+03</td>\n",
       "      <td>1</td>\n",
       "      <td>812.0</td>\n",
       "      <td>2.0</td>\n",
       "      <td>2.0</td>\n",
       "      <td>0.000071</td>\n",
       "    </tr>\n",
       "  </tbody>\n",
       "</table>\n",
       "<p>1862 rows × 7 columns</p>\n",
       "</div>"
      ],
      "text/plain": [
       "     Факты.Товар ID  Маржинальная прибыль_sum  Повторение заказа_sum  \\\n",
       "1388    PROD0001406              1.259996e+07                     17   \n",
       "450     PROD0000454              3.876520e+06                     23   \n",
       "1411    PROD0001430             -9.055392e+05                      7   \n",
       "483     PROD0000488              1.746230e-10                     15   \n",
       "1176    PROD0001187              1.116753e+06                     33   \n",
       "...             ...                       ...                    ...   \n",
       "1838    PROD0001871              1.578500e+03                      1   \n",
       "1854    PROD0001887              1.193400e+03                      1   \n",
       "1747    PROD0001779              1.555200e+03                      3   \n",
       "1675    PROD0001703              1.411200e+03                      1   \n",
       "237     PROD0000239             -2.233000e+03                      1   \n",
       "\n",
       "      Продажи, руб_sum  Продажи, шт_median  Продажи, шт_sum      Доля  \n",
       "1388        30799912.0                 4.0             20.0  2.681845  \n",
       "450         13726692.0                 3.0             31.0  1.195226  \n",
       "1411        11319240.0                 6.0              6.0  0.985602  \n",
       "483         10935288.0                 5.0             39.0  0.952170  \n",
       "1176         9911739.5                 3.0             37.0  0.863046  \n",
       "...                ...                 ...              ...       ...  \n",
       "1838            3850.0                 2.0              2.0  0.000335  \n",
       "1854            3536.0                 2.0              2.0  0.000308  \n",
       "1747            3240.0                 1.0              1.0  0.000282  \n",
       "1675            2880.0                 2.0              2.0  0.000251  \n",
       "237              812.0                 2.0              2.0  0.000071  \n",
       "\n",
       "[1862 rows x 7 columns]"
      ]
     },
     "execution_count": 12,
     "metadata": {},
     "output_type": "execute_result"
    }
   ],
   "source": [
    "df"
   ]
  },
  {
   "cell_type": "code",
   "execution_count": 13,
   "id": "waiting-operations",
   "metadata": {
    "ExecuteTime": {
     "end_time": "2022-02-23T17:53:49.013280Z",
     "start_time": "2022-02-23T17:53:49.008825Z"
    }
   },
   "outputs": [],
   "source": [
    "df = df.assign(sum_d=df['Доля'].cumsum())"
   ]
  },
  {
   "cell_type": "code",
   "execution_count": 14,
   "id": "pacific-decimal",
   "metadata": {},
   "outputs": [
    {
     "data": {
      "text/html": [
       "<div>\n",
       "<style scoped>\n",
       "    .dataframe tbody tr th:only-of-type {\n",
       "        vertical-align: middle;\n",
       "    }\n",
       "\n",
       "    .dataframe tbody tr th {\n",
       "        vertical-align: top;\n",
       "    }\n",
       "\n",
       "    .dataframe thead th {\n",
       "        text-align: right;\n",
       "    }\n",
       "</style>\n",
       "<table border=\"1\" class=\"dataframe\">\n",
       "  <thead>\n",
       "    <tr style=\"text-align: right;\">\n",
       "      <th></th>\n",
       "      <th>Факты.Товар ID</th>\n",
       "      <th>Маржинальная прибыль_sum</th>\n",
       "      <th>Повторение заказа_sum</th>\n",
       "      <th>Продажи, руб_sum</th>\n",
       "      <th>Продажи, шт_median</th>\n",
       "      <th>Продажи, шт_sum</th>\n",
       "      <th>Доля</th>\n",
       "      <th>sum_d</th>\n",
       "    </tr>\n",
       "  </thead>\n",
       "  <tbody>\n",
       "    <tr>\n",
       "      <th>1388</th>\n",
       "      <td>PROD0001406</td>\n",
       "      <td>1.259996e+07</td>\n",
       "      <td>17</td>\n",
       "      <td>30799912.0</td>\n",
       "      <td>4.0</td>\n",
       "      <td>20.0</td>\n",
       "      <td>2.681845</td>\n",
       "      <td>2.681845</td>\n",
       "    </tr>\n",
       "    <tr>\n",
       "      <th>450</th>\n",
       "      <td>PROD0000454</td>\n",
       "      <td>3.876520e+06</td>\n",
       "      <td>23</td>\n",
       "      <td>13726692.0</td>\n",
       "      <td>3.0</td>\n",
       "      <td>31.0</td>\n",
       "      <td>1.195226</td>\n",
       "      <td>3.877071</td>\n",
       "    </tr>\n",
       "    <tr>\n",
       "      <th>1411</th>\n",
       "      <td>PROD0001430</td>\n",
       "      <td>-9.055392e+05</td>\n",
       "      <td>7</td>\n",
       "      <td>11319240.0</td>\n",
       "      <td>6.0</td>\n",
       "      <td>6.0</td>\n",
       "      <td>0.985602</td>\n",
       "      <td>4.862673</td>\n",
       "    </tr>\n",
       "    <tr>\n",
       "      <th>483</th>\n",
       "      <td>PROD0000488</td>\n",
       "      <td>1.746230e-10</td>\n",
       "      <td>15</td>\n",
       "      <td>10935288.0</td>\n",
       "      <td>5.0</td>\n",
       "      <td>39.0</td>\n",
       "      <td>0.952170</td>\n",
       "      <td>5.814843</td>\n",
       "    </tr>\n",
       "    <tr>\n",
       "      <th>1176</th>\n",
       "      <td>PROD0001187</td>\n",
       "      <td>1.116753e+06</td>\n",
       "      <td>33</td>\n",
       "      <td>9911739.5</td>\n",
       "      <td>3.0</td>\n",
       "      <td>37.0</td>\n",
       "      <td>0.863046</td>\n",
       "      <td>6.677889</td>\n",
       "    </tr>\n",
       "    <tr>\n",
       "      <th>...</th>\n",
       "      <td>...</td>\n",
       "      <td>...</td>\n",
       "      <td>...</td>\n",
       "      <td>...</td>\n",
       "      <td>...</td>\n",
       "      <td>...</td>\n",
       "      <td>...</td>\n",
       "      <td>...</td>\n",
       "    </tr>\n",
       "    <tr>\n",
       "      <th>1838</th>\n",
       "      <td>PROD0001871</td>\n",
       "      <td>1.578500e+03</td>\n",
       "      <td>1</td>\n",
       "      <td>3850.0</td>\n",
       "      <td>2.0</td>\n",
       "      <td>2.0</td>\n",
       "      <td>0.000335</td>\n",
       "      <td>99.999089</td>\n",
       "    </tr>\n",
       "    <tr>\n",
       "      <th>1854</th>\n",
       "      <td>PROD0001887</td>\n",
       "      <td>1.193400e+03</td>\n",
       "      <td>1</td>\n",
       "      <td>3536.0</td>\n",
       "      <td>2.0</td>\n",
       "      <td>2.0</td>\n",
       "      <td>0.000308</td>\n",
       "      <td>99.999396</td>\n",
       "    </tr>\n",
       "    <tr>\n",
       "      <th>1747</th>\n",
       "      <td>PROD0001779</td>\n",
       "      <td>1.555200e+03</td>\n",
       "      <td>3</td>\n",
       "      <td>3240.0</td>\n",
       "      <td>1.0</td>\n",
       "      <td>1.0</td>\n",
       "      <td>0.000282</td>\n",
       "      <td>99.999679</td>\n",
       "    </tr>\n",
       "    <tr>\n",
       "      <th>1675</th>\n",
       "      <td>PROD0001703</td>\n",
       "      <td>1.411200e+03</td>\n",
       "      <td>1</td>\n",
       "      <td>2880.0</td>\n",
       "      <td>2.0</td>\n",
       "      <td>2.0</td>\n",
       "      <td>0.000251</td>\n",
       "      <td>99.999929</td>\n",
       "    </tr>\n",
       "    <tr>\n",
       "      <th>237</th>\n",
       "      <td>PROD0000239</td>\n",
       "      <td>-2.233000e+03</td>\n",
       "      <td>1</td>\n",
       "      <td>812.0</td>\n",
       "      <td>2.0</td>\n",
       "      <td>2.0</td>\n",
       "      <td>0.000071</td>\n",
       "      <td>100.000000</td>\n",
       "    </tr>\n",
       "  </tbody>\n",
       "</table>\n",
       "<p>1862 rows × 8 columns</p>\n",
       "</div>"
      ],
      "text/plain": [
       "     Факты.Товар ID  Маржинальная прибыль_sum  Повторение заказа_sum  \\\n",
       "1388    PROD0001406              1.259996e+07                     17   \n",
       "450     PROD0000454              3.876520e+06                     23   \n",
       "1411    PROD0001430             -9.055392e+05                      7   \n",
       "483     PROD0000488              1.746230e-10                     15   \n",
       "1176    PROD0001187              1.116753e+06                     33   \n",
       "...             ...                       ...                    ...   \n",
       "1838    PROD0001871              1.578500e+03                      1   \n",
       "1854    PROD0001887              1.193400e+03                      1   \n",
       "1747    PROD0001779              1.555200e+03                      3   \n",
       "1675    PROD0001703              1.411200e+03                      1   \n",
       "237     PROD0000239             -2.233000e+03                      1   \n",
       "\n",
       "      Продажи, руб_sum  Продажи, шт_median  Продажи, шт_sum      Доля  \\\n",
       "1388        30799912.0                 4.0             20.0  2.681845   \n",
       "450         13726692.0                 3.0             31.0  1.195226   \n",
       "1411        11319240.0                 6.0              6.0  0.985602   \n",
       "483         10935288.0                 5.0             39.0  0.952170   \n",
       "1176         9911739.5                 3.0             37.0  0.863046   \n",
       "...                ...                 ...              ...       ...   \n",
       "1838            3850.0                 2.0              2.0  0.000335   \n",
       "1854            3536.0                 2.0              2.0  0.000308   \n",
       "1747            3240.0                 1.0              1.0  0.000282   \n",
       "1675            2880.0                 2.0              2.0  0.000251   \n",
       "237              812.0                 2.0              2.0  0.000071   \n",
       "\n",
       "           sum_d  \n",
       "1388    2.681845  \n",
       "450     3.877071  \n",
       "1411    4.862673  \n",
       "483     5.814843  \n",
       "1176    6.677889  \n",
       "...          ...  \n",
       "1838   99.999089  \n",
       "1854   99.999396  \n",
       "1747   99.999679  \n",
       "1675   99.999929  \n",
       "237   100.000000  \n",
       "\n",
       "[1862 rows x 8 columns]"
      ]
     },
     "execution_count": 14,
     "metadata": {},
     "output_type": "execute_result"
    }
   ],
   "source": [
    "df"
   ]
  },
  {
   "cell_type": "code",
   "execution_count": 15,
   "id": "challenging-highlight",
   "metadata": {
    "ExecuteTime": {
     "end_time": "2022-02-23T17:53:50.441185Z",
     "start_time": "2022-02-23T17:53:50.432871Z"
    }
   },
   "outputs": [],
   "source": [
    "df.loc[(df['sum_d'] <= 80), 'ABC'] = 'A'\n",
    "df.loc[(df['sum_d'] > 80) & (df['sum_d'] <= 95), 'ABC'] = 'B'\n",
    "df.loc[(df['sum_d'] > 95), 'ABC'] = 'C'"
   ]
  },
  {
   "cell_type": "code",
   "execution_count": 16,
   "id": "editorial-trademark",
   "metadata": {
    "ExecuteTime": {
     "end_time": "2022-02-23T17:53:55.516714Z",
     "start_time": "2022-02-23T17:53:55.495419Z"
    }
   },
   "outputs": [
    {
     "data": {
      "text/html": [
       "<div>\n",
       "<style scoped>\n",
       "    .dataframe tbody tr th:only-of-type {\n",
       "        vertical-align: middle;\n",
       "    }\n",
       "\n",
       "    .dataframe tbody tr th {\n",
       "        vertical-align: top;\n",
       "    }\n",
       "\n",
       "    .dataframe thead th {\n",
       "        text-align: right;\n",
       "    }\n",
       "</style>\n",
       "<table border=\"1\" class=\"dataframe\">\n",
       "  <thead>\n",
       "    <tr style=\"text-align: right;\">\n",
       "      <th></th>\n",
       "      <th>Факты.Товар ID</th>\n",
       "      <th>Маржинальная прибыль_sum</th>\n",
       "      <th>Повторение заказа_sum</th>\n",
       "      <th>Продажи, руб_sum</th>\n",
       "      <th>Продажи, шт_median</th>\n",
       "      <th>Продажи, шт_sum</th>\n",
       "      <th>Доля</th>\n",
       "      <th>sum_d</th>\n",
       "      <th>ABC</th>\n",
       "    </tr>\n",
       "  </thead>\n",
       "  <tbody>\n",
       "    <tr>\n",
       "      <th>1388</th>\n",
       "      <td>PROD0001406</td>\n",
       "      <td>1.259996e+07</td>\n",
       "      <td>17</td>\n",
       "      <td>30799912.0</td>\n",
       "      <td>4.0</td>\n",
       "      <td>20.0</td>\n",
       "      <td>2.681845</td>\n",
       "      <td>2.681845</td>\n",
       "      <td>A</td>\n",
       "    </tr>\n",
       "    <tr>\n",
       "      <th>450</th>\n",
       "      <td>PROD0000454</td>\n",
       "      <td>3.876520e+06</td>\n",
       "      <td>23</td>\n",
       "      <td>13726692.0</td>\n",
       "      <td>3.0</td>\n",
       "      <td>31.0</td>\n",
       "      <td>1.195226</td>\n",
       "      <td>3.877071</td>\n",
       "      <td>A</td>\n",
       "    </tr>\n",
       "    <tr>\n",
       "      <th>1411</th>\n",
       "      <td>PROD0001430</td>\n",
       "      <td>-9.055392e+05</td>\n",
       "      <td>7</td>\n",
       "      <td>11319240.0</td>\n",
       "      <td>6.0</td>\n",
       "      <td>6.0</td>\n",
       "      <td>0.985602</td>\n",
       "      <td>4.862673</td>\n",
       "      <td>A</td>\n",
       "    </tr>\n",
       "    <tr>\n",
       "      <th>483</th>\n",
       "      <td>PROD0000488</td>\n",
       "      <td>1.746230e-10</td>\n",
       "      <td>15</td>\n",
       "      <td>10935288.0</td>\n",
       "      <td>5.0</td>\n",
       "      <td>39.0</td>\n",
       "      <td>0.952170</td>\n",
       "      <td>5.814843</td>\n",
       "      <td>A</td>\n",
       "    </tr>\n",
       "    <tr>\n",
       "      <th>1176</th>\n",
       "      <td>PROD0001187</td>\n",
       "      <td>1.116753e+06</td>\n",
       "      <td>33</td>\n",
       "      <td>9911739.5</td>\n",
       "      <td>3.0</td>\n",
       "      <td>37.0</td>\n",
       "      <td>0.863046</td>\n",
       "      <td>6.677889</td>\n",
       "      <td>A</td>\n",
       "    </tr>\n",
       "    <tr>\n",
       "      <th>...</th>\n",
       "      <td>...</td>\n",
       "      <td>...</td>\n",
       "      <td>...</td>\n",
       "      <td>...</td>\n",
       "      <td>...</td>\n",
       "      <td>...</td>\n",
       "      <td>...</td>\n",
       "      <td>...</td>\n",
       "      <td>...</td>\n",
       "    </tr>\n",
       "    <tr>\n",
       "      <th>1838</th>\n",
       "      <td>PROD0001871</td>\n",
       "      <td>1.578500e+03</td>\n",
       "      <td>1</td>\n",
       "      <td>3850.0</td>\n",
       "      <td>2.0</td>\n",
       "      <td>2.0</td>\n",
       "      <td>0.000335</td>\n",
       "      <td>99.999089</td>\n",
       "      <td>C</td>\n",
       "    </tr>\n",
       "    <tr>\n",
       "      <th>1854</th>\n",
       "      <td>PROD0001887</td>\n",
       "      <td>1.193400e+03</td>\n",
       "      <td>1</td>\n",
       "      <td>3536.0</td>\n",
       "      <td>2.0</td>\n",
       "      <td>2.0</td>\n",
       "      <td>0.000308</td>\n",
       "      <td>99.999396</td>\n",
       "      <td>C</td>\n",
       "    </tr>\n",
       "    <tr>\n",
       "      <th>1747</th>\n",
       "      <td>PROD0001779</td>\n",
       "      <td>1.555200e+03</td>\n",
       "      <td>3</td>\n",
       "      <td>3240.0</td>\n",
       "      <td>1.0</td>\n",
       "      <td>1.0</td>\n",
       "      <td>0.000282</td>\n",
       "      <td>99.999679</td>\n",
       "      <td>C</td>\n",
       "    </tr>\n",
       "    <tr>\n",
       "      <th>1675</th>\n",
       "      <td>PROD0001703</td>\n",
       "      <td>1.411200e+03</td>\n",
       "      <td>1</td>\n",
       "      <td>2880.0</td>\n",
       "      <td>2.0</td>\n",
       "      <td>2.0</td>\n",
       "      <td>0.000251</td>\n",
       "      <td>99.999929</td>\n",
       "      <td>C</td>\n",
       "    </tr>\n",
       "    <tr>\n",
       "      <th>237</th>\n",
       "      <td>PROD0000239</td>\n",
       "      <td>-2.233000e+03</td>\n",
       "      <td>1</td>\n",
       "      <td>812.0</td>\n",
       "      <td>2.0</td>\n",
       "      <td>2.0</td>\n",
       "      <td>0.000071</td>\n",
       "      <td>100.000000</td>\n",
       "      <td>C</td>\n",
       "    </tr>\n",
       "  </tbody>\n",
       "</table>\n",
       "<p>1862 rows × 9 columns</p>\n",
       "</div>"
      ],
      "text/plain": [
       "     Факты.Товар ID  Маржинальная прибыль_sum  Повторение заказа_sum  \\\n",
       "1388    PROD0001406              1.259996e+07                     17   \n",
       "450     PROD0000454              3.876520e+06                     23   \n",
       "1411    PROD0001430             -9.055392e+05                      7   \n",
       "483     PROD0000488              1.746230e-10                     15   \n",
       "1176    PROD0001187              1.116753e+06                     33   \n",
       "...             ...                       ...                    ...   \n",
       "1838    PROD0001871              1.578500e+03                      1   \n",
       "1854    PROD0001887              1.193400e+03                      1   \n",
       "1747    PROD0001779              1.555200e+03                      3   \n",
       "1675    PROD0001703              1.411200e+03                      1   \n",
       "237     PROD0000239             -2.233000e+03                      1   \n",
       "\n",
       "      Продажи, руб_sum  Продажи, шт_median  Продажи, шт_sum      Доля  \\\n",
       "1388        30799912.0                 4.0             20.0  2.681845   \n",
       "450         13726692.0                 3.0             31.0  1.195226   \n",
       "1411        11319240.0                 6.0              6.0  0.985602   \n",
       "483         10935288.0                 5.0             39.0  0.952170   \n",
       "1176         9911739.5                 3.0             37.0  0.863046   \n",
       "...                ...                 ...              ...       ...   \n",
       "1838            3850.0                 2.0              2.0  0.000335   \n",
       "1854            3536.0                 2.0              2.0  0.000308   \n",
       "1747            3240.0                 1.0              1.0  0.000282   \n",
       "1675            2880.0                 2.0              2.0  0.000251   \n",
       "237              812.0                 2.0              2.0  0.000071   \n",
       "\n",
       "           sum_d ABC  \n",
       "1388    2.681845   A  \n",
       "450     3.877071   A  \n",
       "1411    4.862673   A  \n",
       "483     5.814843   A  \n",
       "1176    6.677889   A  \n",
       "...          ...  ..  \n",
       "1838   99.999089   C  \n",
       "1854   99.999396   C  \n",
       "1747   99.999679   C  \n",
       "1675   99.999929   C  \n",
       "237   100.000000   C  \n",
       "\n",
       "[1862 rows x 9 columns]"
      ]
     },
     "execution_count": 16,
     "metadata": {},
     "output_type": "execute_result"
    }
   ],
   "source": [
    "df"
   ]
  },
  {
   "cell_type": "code",
   "execution_count": 17,
   "id": "blind-keeping",
   "metadata": {
    "ExecuteTime": {
     "end_time": "2022-02-23T17:54:08.524327Z",
     "start_time": "2022-02-23T17:54:08.520158Z"
    }
   },
   "outputs": [],
   "source": [
    "df['Стоимость, руб'] = df['Продажи, руб_sum']/df['Продажи, шт_sum']"
   ]
  },
  {
   "cell_type": "code",
   "execution_count": 18,
   "id": "eastern-excellence",
   "metadata": {
    "ExecuteTime": {
     "end_time": "2022-02-23T17:54:09.573281Z",
     "start_time": "2022-02-23T17:54:09.568720Z"
    }
   },
   "outputs": [],
   "source": [
    "df['Продажи в следующем периоде']= (df['Продажи, шт_sum'] + df['Продажи, шт_median']) *df['Стоимость, руб']"
   ]
  },
  {
   "cell_type": "code",
   "execution_count": 19,
   "id": "tired-popularity",
   "metadata": {
    "ExecuteTime": {
     "end_time": "2022-02-23T17:54:10.459566Z",
     "start_time": "2022-02-23T17:54:10.456176Z"
    }
   },
   "outputs": [],
   "source": [
    "total_sale_next=df['Продажи в следующем периоде'].sum()"
   ]
  },
  {
   "cell_type": "code",
   "execution_count": 20,
   "id": "abandoned-rolling",
   "metadata": {
    "ExecuteTime": {
     "end_time": "2022-02-23T17:54:14.734249Z",
     "start_time": "2022-02-23T17:54:14.730190Z"
    }
   },
   "outputs": [],
   "source": [
    "df['Доля_будущая']=df['Продажи в следующем периоде']/total_sale_next * 100"
   ]
  },
  {
   "cell_type": "code",
   "execution_count": 21,
   "id": "random-sigma",
   "metadata": {
    "ExecuteTime": {
     "end_time": "2022-02-23T17:54:15.894151Z",
     "start_time": "2022-02-23T17:54:15.889193Z"
    }
   },
   "outputs": [],
   "source": [
    "df = df.sort_values(by=('Продажи в следующем периоде'), ascending=False)"
   ]
  },
  {
   "cell_type": "code",
   "execution_count": 22,
   "id": "modern-deposit",
   "metadata": {
    "ExecuteTime": {
     "end_time": "2022-02-23T17:54:17.237113Z",
     "start_time": "2022-02-23T17:54:17.232725Z"
    }
   },
   "outputs": [],
   "source": [
    "df = df.assign(sum_d_next=df['Доля_будущая'].cumsum())"
   ]
  },
  {
   "cell_type": "code",
   "execution_count": 23,
   "id": "awful-navigator",
   "metadata": {
    "ExecuteTime": {
     "end_time": "2022-02-23T17:54:18.323937Z",
     "start_time": "2022-02-23T17:54:18.319826Z"
    }
   },
   "outputs": [
    {
     "data": {
      "text/plain": [
       "100.0"
      ]
     },
     "execution_count": 23,
     "metadata": {},
     "output_type": "execute_result"
    }
   ],
   "source": [
    "df['Доля_будущая'].sum()"
   ]
  },
  {
   "cell_type": "code",
   "execution_count": 24,
   "id": "pressing-print",
   "metadata": {
    "ExecuteTime": {
     "end_time": "2022-02-23T17:54:20.760864Z",
     "start_time": "2022-02-23T17:54:20.752108Z"
    }
   },
   "outputs": [],
   "source": [
    "df.loc[(df['sum_d_next'] <= 80), 'ABC_next'] = 'A'\n",
    "df.loc[(df['sum_d_next'] > 80) & (df['sum_d_next'] <= 95), 'ABC_next'] = 'B'\n",
    "df.loc[(df['sum_d_next'] > 95), 'ABC_next'] = 'C'"
   ]
  },
  {
   "cell_type": "code",
   "execution_count": 25,
   "id": "active-merchandise",
   "metadata": {
    "ExecuteTime": {
     "end_time": "2022-02-23T17:54:21.887973Z",
     "start_time": "2022-02-23T17:54:21.880074Z"
    }
   },
   "outputs": [],
   "source": [
    "df.loc[(df['ABC'] != df['ABC_next']), 'Изменение класса'] = 1\n",
    "df.loc[(df['ABC'] == df['ABC_next']), 'Изменение класса'] = 0"
   ]
  },
  {
   "cell_type": "code",
   "execution_count": 26,
   "id": "biblical-article",
   "metadata": {
    "ExecuteTime": {
     "end_time": "2022-02-23T17:54:23.813336Z",
     "start_time": "2022-02-23T17:54:23.808600Z"
    }
   },
   "outputs": [
    {
     "data": {
      "text/plain": [
       "61.0"
      ]
     },
     "execution_count": 26,
     "metadata": {},
     "output_type": "execute_result"
    }
   ],
   "source": [
    "df['Изменение класса'].sum()"
   ]
  },
  {
   "cell_type": "code",
   "execution_count": 27,
   "id": "running-sound",
   "metadata": {
    "ExecuteTime": {
     "end_time": "2022-02-23T17:57:12.416824Z",
     "start_time": "2022-02-23T17:57:12.408619Z"
    }
   },
   "outputs": [],
   "source": [
    "df.loc[(df['sum_d'] <= 80), 'class'] = '0'\n",
    "df.loc[(df['sum_d'] > 80) & (df['sum_d'] <= 95), 'class'] = '1'\n",
    "df.loc[(df['sum_d'] > 95), 'class'] = '2'"
   ]
  },
  {
   "cell_type": "code",
   "execution_count": 28,
   "id": "jewish-weekend",
   "metadata": {
    "ExecuteTime": {
     "end_time": "2022-02-23T17:57:11.196028Z",
     "start_time": "2022-02-23T17:57:11.185977Z"
    }
   },
   "outputs": [],
   "source": [
    "df.loc[(df['sum_d_next'] <= 80), 'class_next'] = '0'\n",
    "df.loc[(df['sum_d_next'] > 80) & (df['sum_d_next'] <= 95), 'class_next'] = '1'\n",
    "df.loc[(df['sum_d_next'] > 95), 'class_next'] = '2'"
   ]
  },
  {
   "cell_type": "code",
   "execution_count": 29,
   "id": "impossible-forum",
   "metadata": {
    "ExecuteTime": {
     "end_time": "2022-02-23T17:57:14.056816Z",
     "start_time": "2022-02-23T17:57:14.024961Z"
    },
    "scrolled": true
   },
   "outputs": [
    {
     "data": {
      "text/html": [
       "<div>\n",
       "<style scoped>\n",
       "    .dataframe tbody tr th:only-of-type {\n",
       "        vertical-align: middle;\n",
       "    }\n",
       "\n",
       "    .dataframe tbody tr th {\n",
       "        vertical-align: top;\n",
       "    }\n",
       "\n",
       "    .dataframe thead th {\n",
       "        text-align: right;\n",
       "    }\n",
       "</style>\n",
       "<table border=\"1\" class=\"dataframe\">\n",
       "  <thead>\n",
       "    <tr style=\"text-align: right;\">\n",
       "      <th></th>\n",
       "      <th>Факты.Товар ID</th>\n",
       "      <th>Маржинальная прибыль_sum</th>\n",
       "      <th>Повторение заказа_sum</th>\n",
       "      <th>Продажи, руб_sum</th>\n",
       "      <th>Продажи, шт_median</th>\n",
       "      <th>Продажи, шт_sum</th>\n",
       "      <th>Доля</th>\n",
       "      <th>sum_d</th>\n",
       "      <th>ABC</th>\n",
       "      <th>Стоимость, руб</th>\n",
       "      <th>Продажи в следующем периоде</th>\n",
       "      <th>Доля_будущая</th>\n",
       "      <th>sum_d_next</th>\n",
       "      <th>ABC_next</th>\n",
       "      <th>Изменение класса</th>\n",
       "      <th>class</th>\n",
       "      <th>class_next</th>\n",
       "    </tr>\n",
       "  </thead>\n",
       "  <tbody>\n",
       "    <tr>\n",
       "      <th>1388</th>\n",
       "      <td>PROD0001406</td>\n",
       "      <td>1.259996e+07</td>\n",
       "      <td>17</td>\n",
       "      <td>30799912.0</td>\n",
       "      <td>4.0</td>\n",
       "      <td>20.0</td>\n",
       "      <td>2.681845</td>\n",
       "      <td>2.681845</td>\n",
       "      <td>A</td>\n",
       "      <td>1.539996e+06</td>\n",
       "      <td>3.695989e+07</td>\n",
       "      <td>2.691941</td>\n",
       "      <td>2.691941</td>\n",
       "      <td>A</td>\n",
       "      <td>0.0</td>\n",
       "      <td>0</td>\n",
       "      <td>0</td>\n",
       "    </tr>\n",
       "    <tr>\n",
       "      <th>1411</th>\n",
       "      <td>PROD0001430</td>\n",
       "      <td>-9.055392e+05</td>\n",
       "      <td>7</td>\n",
       "      <td>11319240.0</td>\n",
       "      <td>6.0</td>\n",
       "      <td>6.0</td>\n",
       "      <td>0.985602</td>\n",
       "      <td>4.862673</td>\n",
       "      <td>A</td>\n",
       "      <td>1.886540e+06</td>\n",
       "      <td>2.263848e+07</td>\n",
       "      <td>1.648854</td>\n",
       "      <td>4.340795</td>\n",
       "      <td>A</td>\n",
       "      <td>0.0</td>\n",
       "      <td>0</td>\n",
       "      <td>0</td>\n",
       "    </tr>\n",
       "    <tr>\n",
       "      <th>450</th>\n",
       "      <td>PROD0000454</td>\n",
       "      <td>3.876520e+06</td>\n",
       "      <td>23</td>\n",
       "      <td>13726692.0</td>\n",
       "      <td>3.0</td>\n",
       "      <td>31.0</td>\n",
       "      <td>1.195226</td>\n",
       "      <td>3.877071</td>\n",
       "      <td>A</td>\n",
       "      <td>4.427965e+05</td>\n",
       "      <td>1.505508e+07</td>\n",
       "      <td>1.096523</td>\n",
       "      <td>5.437318</td>\n",
       "      <td>A</td>\n",
       "      <td>0.0</td>\n",
       "      <td>0</td>\n",
       "      <td>0</td>\n",
       "    </tr>\n",
       "    <tr>\n",
       "      <th>483</th>\n",
       "      <td>PROD0000488</td>\n",
       "      <td>1.746230e-10</td>\n",
       "      <td>15</td>\n",
       "      <td>10935288.0</td>\n",
       "      <td>5.0</td>\n",
       "      <td>39.0</td>\n",
       "      <td>0.952170</td>\n",
       "      <td>5.814843</td>\n",
       "      <td>A</td>\n",
       "      <td>2.803920e+05</td>\n",
       "      <td>1.233725e+07</td>\n",
       "      <td>0.898572</td>\n",
       "      <td>6.335891</td>\n",
       "      <td>A</td>\n",
       "      <td>0.0</td>\n",
       "      <td>0</td>\n",
       "      <td>0</td>\n",
       "    </tr>\n",
       "    <tr>\n",
       "      <th>1629</th>\n",
       "      <td>PROD0001657</td>\n",
       "      <td>2.047488e+06</td>\n",
       "      <td>6</td>\n",
       "      <td>9187447.5</td>\n",
       "      <td>4.0</td>\n",
       "      <td>12.0</td>\n",
       "      <td>0.799980</td>\n",
       "      <td>9.126346</td>\n",
       "      <td>A</td>\n",
       "      <td>7.656206e+05</td>\n",
       "      <td>1.224993e+07</td>\n",
       "      <td>0.892213</td>\n",
       "      <td>7.228103</td>\n",
       "      <td>A</td>\n",
       "      <td>0.0</td>\n",
       "      <td>0</td>\n",
       "      <td>0</td>\n",
       "    </tr>\n",
       "    <tr>\n",
       "      <th>...</th>\n",
       "      <td>...</td>\n",
       "      <td>...</td>\n",
       "      <td>...</td>\n",
       "      <td>...</td>\n",
       "      <td>...</td>\n",
       "      <td>...</td>\n",
       "      <td>...</td>\n",
       "      <td>...</td>\n",
       "      <td>...</td>\n",
       "      <td>...</td>\n",
       "      <td>...</td>\n",
       "      <td>...</td>\n",
       "      <td>...</td>\n",
       "      <td>...</td>\n",
       "      <td>...</td>\n",
       "      <td>...</td>\n",
       "      <td>...</td>\n",
       "    </tr>\n",
       "    <tr>\n",
       "      <th>1245</th>\n",
       "      <td>PROD0001257</td>\n",
       "      <td>1.050000e+03</td>\n",
       "      <td>12</td>\n",
       "      <td>4200.0</td>\n",
       "      <td>2.5</td>\n",
       "      <td>5.0</td>\n",
       "      <td>0.000366</td>\n",
       "      <td>99.997704</td>\n",
       "      <td>C</td>\n",
       "      <td>8.400000e+02</td>\n",
       "      <td>6.300000e+03</td>\n",
       "      <td>0.000459</td>\n",
       "      <td>99.998575</td>\n",
       "      <td>C</td>\n",
       "      <td>0.0</td>\n",
       "      <td>2</td>\n",
       "      <td>2</td>\n",
       "    </tr>\n",
       "    <tr>\n",
       "      <th>1108</th>\n",
       "      <td>PROD0001119</td>\n",
       "      <td>2.220000e+02</td>\n",
       "      <td>13</td>\n",
       "      <td>4884.0</td>\n",
       "      <td>1.5</td>\n",
       "      <td>6.0</td>\n",
       "      <td>0.000425</td>\n",
       "      <td>99.996103</td>\n",
       "      <td>C</td>\n",
       "      <td>8.140000e+02</td>\n",
       "      <td>6.105000e+03</td>\n",
       "      <td>0.000445</td>\n",
       "      <td>99.999020</td>\n",
       "      <td>C</td>\n",
       "      <td>0.0</td>\n",
       "      <td>2</td>\n",
       "      <td>2</td>\n",
       "    </tr>\n",
       "    <tr>\n",
       "      <th>801</th>\n",
       "      <td>PROD0000808</td>\n",
       "      <td>1.702000e+03</td>\n",
       "      <td>2</td>\n",
       "      <td>4048.0</td>\n",
       "      <td>2.5</td>\n",
       "      <td>5.0</td>\n",
       "      <td>0.000352</td>\n",
       "      <td>99.998056</td>\n",
       "      <td>C</td>\n",
       "      <td>8.096000e+02</td>\n",
       "      <td>6.072000e+03</td>\n",
       "      <td>0.000442</td>\n",
       "      <td>99.999462</td>\n",
       "      <td>C</td>\n",
       "      <td>0.0</td>\n",
       "      <td>2</td>\n",
       "      <td>2</td>\n",
       "    </tr>\n",
       "    <tr>\n",
       "      <th>1675</th>\n",
       "      <td>PROD0001703</td>\n",
       "      <td>1.411200e+03</td>\n",
       "      <td>1</td>\n",
       "      <td>2880.0</td>\n",
       "      <td>2.0</td>\n",
       "      <td>2.0</td>\n",
       "      <td>0.000251</td>\n",
       "      <td>99.999929</td>\n",
       "      <td>C</td>\n",
       "      <td>1.440000e+03</td>\n",
       "      <td>5.760000e+03</td>\n",
       "      <td>0.000420</td>\n",
       "      <td>99.999882</td>\n",
       "      <td>C</td>\n",
       "      <td>0.0</td>\n",
       "      <td>2</td>\n",
       "      <td>2</td>\n",
       "    </tr>\n",
       "    <tr>\n",
       "      <th>237</th>\n",
       "      <td>PROD0000239</td>\n",
       "      <td>-2.233000e+03</td>\n",
       "      <td>1</td>\n",
       "      <td>812.0</td>\n",
       "      <td>2.0</td>\n",
       "      <td>2.0</td>\n",
       "      <td>0.000071</td>\n",
       "      <td>100.000000</td>\n",
       "      <td>C</td>\n",
       "      <td>4.060000e+02</td>\n",
       "      <td>1.624000e+03</td>\n",
       "      <td>0.000118</td>\n",
       "      <td>100.000000</td>\n",
       "      <td>C</td>\n",
       "      <td>0.0</td>\n",
       "      <td>2</td>\n",
       "      <td>2</td>\n",
       "    </tr>\n",
       "  </tbody>\n",
       "</table>\n",
       "<p>1862 rows × 17 columns</p>\n",
       "</div>"
      ],
      "text/plain": [
       "     Факты.Товар ID  Маржинальная прибыль_sum  Повторение заказа_sum  \\\n",
       "1388    PROD0001406              1.259996e+07                     17   \n",
       "1411    PROD0001430             -9.055392e+05                      7   \n",
       "450     PROD0000454              3.876520e+06                     23   \n",
       "483     PROD0000488              1.746230e-10                     15   \n",
       "1629    PROD0001657              2.047488e+06                      6   \n",
       "...             ...                       ...                    ...   \n",
       "1245    PROD0001257              1.050000e+03                     12   \n",
       "1108    PROD0001119              2.220000e+02                     13   \n",
       "801     PROD0000808              1.702000e+03                      2   \n",
       "1675    PROD0001703              1.411200e+03                      1   \n",
       "237     PROD0000239             -2.233000e+03                      1   \n",
       "\n",
       "      Продажи, руб_sum  Продажи, шт_median  Продажи, шт_sum      Доля  \\\n",
       "1388        30799912.0                 4.0             20.0  2.681845   \n",
       "1411        11319240.0                 6.0              6.0  0.985602   \n",
       "450         13726692.0                 3.0             31.0  1.195226   \n",
       "483         10935288.0                 5.0             39.0  0.952170   \n",
       "1629         9187447.5                 4.0             12.0  0.799980   \n",
       "...                ...                 ...              ...       ...   \n",
       "1245            4200.0                 2.5              5.0  0.000366   \n",
       "1108            4884.0                 1.5              6.0  0.000425   \n",
       "801             4048.0                 2.5              5.0  0.000352   \n",
       "1675            2880.0                 2.0              2.0  0.000251   \n",
       "237              812.0                 2.0              2.0  0.000071   \n",
       "\n",
       "           sum_d ABC  Стоимость, руб  Продажи в следующем периоде  \\\n",
       "1388    2.681845   A    1.539996e+06                 3.695989e+07   \n",
       "1411    4.862673   A    1.886540e+06                 2.263848e+07   \n",
       "450     3.877071   A    4.427965e+05                 1.505508e+07   \n",
       "483     5.814843   A    2.803920e+05                 1.233725e+07   \n",
       "1629    9.126346   A    7.656206e+05                 1.224993e+07   \n",
       "...          ...  ..             ...                          ...   \n",
       "1245   99.997704   C    8.400000e+02                 6.300000e+03   \n",
       "1108   99.996103   C    8.140000e+02                 6.105000e+03   \n",
       "801    99.998056   C    8.096000e+02                 6.072000e+03   \n",
       "1675   99.999929   C    1.440000e+03                 5.760000e+03   \n",
       "237   100.000000   C    4.060000e+02                 1.624000e+03   \n",
       "\n",
       "      Доля_будущая  sum_d_next ABC_next  Изменение класса class class_next  \n",
       "1388      2.691941    2.691941        A               0.0     0          0  \n",
       "1411      1.648854    4.340795        A               0.0     0          0  \n",
       "450       1.096523    5.437318        A               0.0     0          0  \n",
       "483       0.898572    6.335891        A               0.0     0          0  \n",
       "1629      0.892213    7.228103        A               0.0     0          0  \n",
       "...            ...         ...      ...               ...   ...        ...  \n",
       "1245      0.000459   99.998575        C               0.0     2          2  \n",
       "1108      0.000445   99.999020        C               0.0     2          2  \n",
       "801       0.000442   99.999462        C               0.0     2          2  \n",
       "1675      0.000420   99.999882        C               0.0     2          2  \n",
       "237       0.000118  100.000000        C               0.0     2          2  \n",
       "\n",
       "[1862 rows x 17 columns]"
      ]
     },
     "execution_count": 29,
     "metadata": {},
     "output_type": "execute_result"
    }
   ],
   "source": [
    "df"
   ]
  },
  {
   "cell_type": "code",
   "execution_count": 30,
   "id": "ef90cd2a",
   "metadata": {},
   "outputs": [
    {
     "data": {
      "text/plain": [
       "Index(['Факты.Товар ID', 'Маржинальная прибыль_sum', 'Повторение заказа_sum',\n",
       "       'Продажи, руб_sum', 'Продажи, шт_median', 'Продажи, шт_sum', 'Доля',\n",
       "       'sum_d', 'ABC', 'Стоимость, руб', 'Продажи в следующем периоде',\n",
       "       'Доля_будущая', 'sum_d_next', 'ABC_next', 'Изменение класса', 'class',\n",
       "       'class_next'],\n",
       "      dtype='object')"
      ]
     },
     "execution_count": 30,
     "metadata": {},
     "output_type": "execute_result"
    }
   ],
   "source": [
    "df.columns"
   ]
  },
  {
   "cell_type": "code",
   "execution_count": 31,
   "id": "52ecc1e9",
   "metadata": {},
   "outputs": [],
   "source": [
    "from sklearn.model_selection import train_test_split\n",
    "\n",
    "X = df[['Повторение заказа_sum', 'Продажи, шт_median', 'Продажи, шт_sum', 'Доля', 'class', 'Стоимость, руб']]\n",
    "y = df['class_next']\n",
    "\n",
    "X_train, X_test, y_train, y_test = train_test_split(X, y, test_size = 0.3, random_state = 85)"
   ]
  },
  {
   "cell_type": "markdown",
   "id": "f288ee4e",
   "metadata": {},
   "source": [
    "## RandomForestClassifier"
   ]
  },
  {
   "cell_type": "code",
   "execution_count": 32,
   "id": "b5711552",
   "metadata": {
    "scrolled": true
   },
   "outputs": [],
   "source": [
    "from sklearn.ensemble import RandomForestClassifier\n",
    "\n",
    "clf = RandomForestClassifier(n_estimators=100)\n",
    "clf.fit(X_train, y_train)\n",
    "y_pred = clf.predict(X_test)"
   ]
  },
  {
   "cell_type": "code",
   "execution_count": 33,
   "id": "32d776a4",
   "metadata": {
    "scrolled": true
   },
   "outputs": [
    {
     "name": "stdout",
     "output_type": "stream",
     "text": [
      "Accuracy: 0.9767441860465116\n"
     ]
    }
   ],
   "source": [
    "from sklearn import metrics\n",
    "print(\"Accuracy:\", metrics.accuracy_score(y_test, y_pred))"
   ]
  },
  {
   "cell_type": "markdown",
   "id": "852d669c",
   "metadata": {},
   "source": [
    "## KNeighborsClassifier"
   ]
  },
  {
   "cell_type": "code",
   "execution_count": 34,
   "id": "e378192d",
   "metadata": {},
   "outputs": [],
   "source": [
    "from sklearn.neighbors import KNeighborsClassifier\n",
    "\n",
    "\n",
    "X = df[['Повторение заказа_sum', 'Продажи, шт_median', 'Продажи, шт_sum', 'Доля', 'class', 'Стоимость, руб']]\n",
    "y = df['class_next']\n",
    "\n",
    "x_train_1, x_test_1, y_train_1, y_test_1 = train_test_split(X, y, test_size = 0.2, random_state = 0)\n",
    "x_train_2, x_test_2, y_train_2, y_test_2 = train_test_split(X, y, test_size = 0.2, random_state = 10)"
   ]
  },
  {
   "cell_type": "code",
   "execution_count": 35,
   "id": "b75eb9c8",
   "metadata": {},
   "outputs": [],
   "source": [
    "knn = KNeighborsClassifier(n_neighbors=5)\n",
    "knn_model_1 = knn.fit(x_train_1, y_train_1)\n",
    "knn_model_2 = knn.fit(x_train_2, y_train_2)"
   ]
  },
  {
   "cell_type": "code",
   "execution_count": 36,
   "id": "998abb3e",
   "metadata": {
    "scrolled": true
   },
   "outputs": [],
   "source": [
    "knn_predictions_1 = knn_model_1.predict(x_test_1)\n",
    "knn_predictions_2 = knn_model_2.predict(x_test_2)"
   ]
  },
  {
   "cell_type": "code",
   "execution_count": 37,
   "id": "20dec30f",
   "metadata": {},
   "outputs": [
    {
     "name": "stdout",
     "output_type": "stream",
     "text": [
      "Accuracy_1: 0.8579088471849866, accuracy_2: 0.8284182305630027\n"
     ]
    }
   ],
   "source": [
    "from sklearn.metrics import accuracy_score\n",
    "accuracy_1 = accuracy_score(y_test_1, knn_predictions_1)\n",
    "accuracy_2 = accuracy_score(y_test_2, knn_predictions_2)\n",
    "\n",
    "print(f'Accuracy_1: {accuracy_1}, accuracy_2: {accuracy_2}')"
   ]
  },
  {
   "cell_type": "markdown",
   "id": "dd6c9945",
   "metadata": {},
   "source": [
    "## LogisticRegression"
   ]
  },
  {
   "cell_type": "code",
   "execution_count": 38,
   "id": "389da305",
   "metadata": {},
   "outputs": [],
   "source": [
    "from sklearn import linear_model, model_selection\n",
    "\n",
    "X = df[['Повторение заказа_sum', 'Продажи, шт_median', 'Продажи, шт_sum', 'Доля', 'class', 'Стоимость, руб']]\n",
    "y = df['class_next']\n",
    "\n",
    "X_train, X_test, Y_train, Y_test = model_selection.train_test_split(X, y, test_size = 0.2)\n",
    "model = linear_model.LogisticRegression(max_iter = 10000)"
   ]
  },
  {
   "cell_type": "code",
   "execution_count": 39,
   "id": "31e4a342",
   "metadata": {},
   "outputs": [
    {
     "data": {
      "text/html": [
       "<style>#sk-container-id-1 {color: black;background-color: white;}#sk-container-id-1 pre{padding: 0;}#sk-container-id-1 div.sk-toggleable {background-color: white;}#sk-container-id-1 label.sk-toggleable__label {cursor: pointer;display: block;width: 100%;margin-bottom: 0;padding: 0.3em;box-sizing: border-box;text-align: center;}#sk-container-id-1 label.sk-toggleable__label-arrow:before {content: \"▸\";float: left;margin-right: 0.25em;color: #696969;}#sk-container-id-1 label.sk-toggleable__label-arrow:hover:before {color: black;}#sk-container-id-1 div.sk-estimator:hover label.sk-toggleable__label-arrow:before {color: black;}#sk-container-id-1 div.sk-toggleable__content {max-height: 0;max-width: 0;overflow: hidden;text-align: left;background-color: #f0f8ff;}#sk-container-id-1 div.sk-toggleable__content pre {margin: 0.2em;color: black;border-radius: 0.25em;background-color: #f0f8ff;}#sk-container-id-1 input.sk-toggleable__control:checked~div.sk-toggleable__content {max-height: 200px;max-width: 100%;overflow: auto;}#sk-container-id-1 input.sk-toggleable__control:checked~label.sk-toggleable__label-arrow:before {content: \"▾\";}#sk-container-id-1 div.sk-estimator input.sk-toggleable__control:checked~label.sk-toggleable__label {background-color: #d4ebff;}#sk-container-id-1 div.sk-label input.sk-toggleable__control:checked~label.sk-toggleable__label {background-color: #d4ebff;}#sk-container-id-1 input.sk-hidden--visually {border: 0;clip: rect(1px 1px 1px 1px);clip: rect(1px, 1px, 1px, 1px);height: 1px;margin: -1px;overflow: hidden;padding: 0;position: absolute;width: 1px;}#sk-container-id-1 div.sk-estimator {font-family: monospace;background-color: #f0f8ff;border: 1px dotted black;border-radius: 0.25em;box-sizing: border-box;margin-bottom: 0.5em;}#sk-container-id-1 div.sk-estimator:hover {background-color: #d4ebff;}#sk-container-id-1 div.sk-parallel-item::after {content: \"\";width: 100%;border-bottom: 1px solid gray;flex-grow: 1;}#sk-container-id-1 div.sk-label:hover label.sk-toggleable__label {background-color: #d4ebff;}#sk-container-id-1 div.sk-serial::before {content: \"\";position: absolute;border-left: 1px solid gray;box-sizing: border-box;top: 0;bottom: 0;left: 50%;z-index: 0;}#sk-container-id-1 div.sk-serial {display: flex;flex-direction: column;align-items: center;background-color: white;padding-right: 0.2em;padding-left: 0.2em;position: relative;}#sk-container-id-1 div.sk-item {position: relative;z-index: 1;}#sk-container-id-1 div.sk-parallel {display: flex;align-items: stretch;justify-content: center;background-color: white;position: relative;}#sk-container-id-1 div.sk-item::before, #sk-container-id-1 div.sk-parallel-item::before {content: \"\";position: absolute;border-left: 1px solid gray;box-sizing: border-box;top: 0;bottom: 0;left: 50%;z-index: -1;}#sk-container-id-1 div.sk-parallel-item {display: flex;flex-direction: column;z-index: 1;position: relative;background-color: white;}#sk-container-id-1 div.sk-parallel-item:first-child::after {align-self: flex-end;width: 50%;}#sk-container-id-1 div.sk-parallel-item:last-child::after {align-self: flex-start;width: 50%;}#sk-container-id-1 div.sk-parallel-item:only-child::after {width: 0;}#sk-container-id-1 div.sk-dashed-wrapped {border: 1px dashed gray;margin: 0 0.4em 0.5em 0.4em;box-sizing: border-box;padding-bottom: 0.4em;background-color: white;}#sk-container-id-1 div.sk-label label {font-family: monospace;font-weight: bold;display: inline-block;line-height: 1.2em;}#sk-container-id-1 div.sk-label-container {text-align: center;}#sk-container-id-1 div.sk-container {/* jupyter's `normalize.less` sets `[hidden] { display: none; }` but bootstrap.min.css set `[hidden] { display: none !important; }` so we also need the `!important` here to be able to override the default hidden behavior on the sphinx rendered scikit-learn.org. See: https://github.com/scikit-learn/scikit-learn/issues/21755 */display: inline-block !important;position: relative;}#sk-container-id-1 div.sk-text-repr-fallback {display: none;}</style><div id=\"sk-container-id-1\" class=\"sk-top-container\"><div class=\"sk-text-repr-fallback\"><pre>LogisticRegression(max_iter=10000)</pre><b>In a Jupyter environment, please rerun this cell to show the HTML representation or trust the notebook. <br />On GitHub, the HTML representation is unable to render, please try loading this page with nbviewer.org.</b></div><div class=\"sk-container\" hidden><div class=\"sk-item\"><div class=\"sk-estimator sk-toggleable\"><input class=\"sk-toggleable__control sk-hidden--visually\" id=\"sk-estimator-id-1\" type=\"checkbox\" checked><label for=\"sk-estimator-id-1\" class=\"sk-toggleable__label sk-toggleable__label-arrow\">LogisticRegression</label><div class=\"sk-toggleable__content\"><pre>LogisticRegression(max_iter=10000)</pre></div></div></div></div></div>"
      ],
      "text/plain": [
       "LogisticRegression(max_iter=10000)"
      ]
     },
     "execution_count": 39,
     "metadata": {},
     "output_type": "execute_result"
    }
   ],
   "source": [
    "model.fit(X_train, Y_train)"
   ]
  },
  {
   "cell_type": "code",
   "execution_count": 40,
   "id": "5d369714",
   "metadata": {},
   "outputs": [],
   "source": [
    "Y_test_predicted = model.predict(X_test)"
   ]
  },
  {
   "cell_type": "code",
   "execution_count": 41,
   "id": "9f5d33af",
   "metadata": {},
   "outputs": [
    {
     "name": "stdout",
     "output_type": "stream",
     "text": [
      "Accuracy: 0.9758713136729222\n"
     ]
    }
   ],
   "source": [
    "from sklearn import metrics\n",
    "print(\"Accuracy:\", metrics.accuracy_score(Y_test, Y_test_predicted))"
   ]
  },
  {
   "cell_type": "markdown",
   "id": "1198763e",
   "metadata": {},
   "source": [
    "### Найти причину/фактор низкой маржинальности"
   ]
  },
  {
   "cell_type": "markdown",
   "id": "2d6edef3",
   "metadata": {},
   "source": [
    "В исходных данных маржинальная прибыль во многих записях по ошибке указана с отрицательным значением, что скорее всего указывается на человеческий фактор при заполнении исходной таблицы."
   ]
  }
 ],
 "metadata": {
  "kernelspec": {
   "display_name": "Python 3 (ipykernel)",
   "language": "python",
   "name": "python3"
  },
  "language_info": {
   "codemirror_mode": {
    "name": "ipython",
    "version": 3
   },
   "file_extension": ".py",
   "mimetype": "text/x-python",
   "name": "python",
   "nbconvert_exporter": "python",
   "pygments_lexer": "ipython3",
   "version": "3.10.6"
  },
  "toc": {
   "base_numbering": 1,
   "nav_menu": {},
   "number_sections": true,
   "sideBar": true,
   "skip_h1_title": false,
   "title_cell": "Table of Contents",
   "title_sidebar": "Contents",
   "toc_cell": false,
   "toc_position": {},
   "toc_section_display": true,
   "toc_window_display": false
  },
  "varInspector": {
   "cols": {
    "lenName": 16,
    "lenType": 16,
    "lenVar": 40
   },
   "kernels_config": {
    "python": {
     "delete_cmd_postfix": "",
     "delete_cmd_prefix": "del ",
     "library": "var_list.py",
     "varRefreshCmd": "print(var_dic_list())"
    },
    "r": {
     "delete_cmd_postfix": ") ",
     "delete_cmd_prefix": "rm(",
     "library": "var_list.r",
     "varRefreshCmd": "cat(var_dic_list()) "
    }
   },
   "types_to_exclude": [
    "module",
    "function",
    "builtin_function_or_method",
    "instance",
    "_Feature"
   ],
   "window_display": false
  }
 },
 "nbformat": 4,
 "nbformat_minor": 5
}
