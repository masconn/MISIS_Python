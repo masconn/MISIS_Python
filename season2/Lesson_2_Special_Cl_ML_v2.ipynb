{
 "cells": [
  {
   "cell_type": "markdown",
   "metadata": {},
   "source": [
    "# ДЗ"
   ]
  },
  {
   "cell_type": "markdown",
   "metadata": {
    "ExecuteTime": {
     "end_time": "2022-02-15T14:30:36.271983Z",
     "start_time": "2022-02-15T14:30:36.074735Z"
    }
   },
   "source": [
    "###### ДЗ 1 Классификация Домашнее задание из двух частей. (после НГ)\n",
    "\n",
    "База про спортсменов\n",
    "\n",
    "*Креативная часть:* найти парамеры и комбинации их, которые будут увеличивать accuracy\n",
    "\n",
    "*Техническая часть:* сделать под это всё удобные обёртки. Например, это функция, которая просто принимает список фичей, а на выходе показывает результат фита"
   ]
  },
  {
   "cell_type": "code",
   "execution_count": 1,
   "metadata": {
    "ExecuteTime": {
     "end_time": "2022-02-13T15:57:07.374611Z",
     "start_time": "2022-02-13T15:56:50.448105Z"
    }
   },
   "outputs": [],
   "source": [
    "import pandas as pd\n",
    "import glob\n",
    "import os\n",
    "import tqdm\n",
    "import gc\n",
    "import matplotlib.pyplot as plt\n",
    "from ipywidgets import interact, interactive, fixed, interact_manual\n",
    "import ipywidgets as widgets\n",
    "import seaborn as sns\n",
    "import numpy as np\n",
    "from scipy.spatial import Voronoi, voronoi_plot_2d\n",
    "import math\n",
    "from sklearn import datasets, linear_model, model_selection\n",
    "from sklearn.metrics import mean_squared_error, r2_score, confusion_matrix\n",
    "from tqdm import tqdm"
   ]
  },
  {
   "cell_type": "code",
   "execution_count": 2,
   "metadata": {
    "ExecuteTime": {
     "end_time": "2022-02-13T15:57:07.393134Z",
     "start_time": "2022-02-13T15:57:07.388962Z"
    }
   },
   "outputs": [],
   "source": [
    "##Для отображения плотов на лету\n",
    "%matplotlib inline"
   ]
  },
  {
   "cell_type": "markdown",
   "metadata": {},
   "source": [
    "###### Загрузка данных и чистка"
   ]
  },
  {
   "cell_type": "code",
   "execution_count": 3,
   "metadata": {
    "ExecuteTime": {
     "end_time": "2022-02-13T15:58:44.479332Z",
     "start_time": "2022-02-13T15:58:44.299955Z"
    }
   },
   "outputs": [],
   "source": [
    "f = r'data\\athletes_sochi.txt'\n",
    "dfs = pd.read_csv(f).dropna()"
   ]
  },
  {
   "cell_type": "code",
   "execution_count": 4,
   "metadata": {
    "ExecuteTime": {
     "end_time": "2022-02-13T16:01:13.812634Z",
     "start_time": "2022-02-13T16:01:13.764485Z"
    }
   },
   "outputs": [
    {
     "data": {
      "text/html": [
       "<div>\n",
       "<style scoped>\n",
       "    .dataframe tbody tr th:only-of-type {\n",
       "        vertical-align: middle;\n",
       "    }\n",
       "\n",
       "    .dataframe tbody tr th {\n",
       "        vertical-align: top;\n",
       "    }\n",
       "\n",
       "    .dataframe thead th {\n",
       "        text-align: right;\n",
       "    }\n",
       "</style>\n",
       "<table border=\"1\" class=\"dataframe\">\n",
       "  <thead>\n",
       "    <tr style=\"text-align: right;\">\n",
       "      <th></th>\n",
       "      <th>age</th>\n",
       "      <th>birthdate</th>\n",
       "      <th>gender</th>\n",
       "      <th>height</th>\n",
       "      <th>name</th>\n",
       "      <th>weight</th>\n",
       "      <th>gold_medals</th>\n",
       "      <th>silver_medals</th>\n",
       "      <th>bronze_medals</th>\n",
       "      <th>total_medals</th>\n",
       "      <th>sport</th>\n",
       "      <th>country</th>\n",
       "    </tr>\n",
       "  </thead>\n",
       "  <tbody>\n",
       "    <tr>\n",
       "      <th>0</th>\n",
       "      <td>17</td>\n",
       "      <td>1996-04-12</td>\n",
       "      <td>Male</td>\n",
       "      <td>1.72</td>\n",
       "      <td>Aaron Blunck</td>\n",
       "      <td>68.0</td>\n",
       "      <td>0</td>\n",
       "      <td>0</td>\n",
       "      <td>0</td>\n",
       "      <td>0</td>\n",
       "      <td>Freestyle Skiing</td>\n",
       "      <td>United States</td>\n",
       "    </tr>\n",
       "    <tr>\n",
       "      <th>1</th>\n",
       "      <td>27</td>\n",
       "      <td>1986-05-14</td>\n",
       "      <td>Male</td>\n",
       "      <td>1.85</td>\n",
       "      <td>Aaron March</td>\n",
       "      <td>85.0</td>\n",
       "      <td>0</td>\n",
       "      <td>0</td>\n",
       "      <td>0</td>\n",
       "      <td>0</td>\n",
       "      <td>Snowboard</td>\n",
       "      <td>Italy</td>\n",
       "    </tr>\n",
       "    <tr>\n",
       "      <th>2</th>\n",
       "      <td>21</td>\n",
       "      <td>1992-06-30</td>\n",
       "      <td>Male</td>\n",
       "      <td>1.78</td>\n",
       "      <td>Abzal Azhgaliyev</td>\n",
       "      <td>68.0</td>\n",
       "      <td>0</td>\n",
       "      <td>0</td>\n",
       "      <td>0</td>\n",
       "      <td>0</td>\n",
       "      <td>Short Track</td>\n",
       "      <td>Kazakhstan</td>\n",
       "    </tr>\n",
       "    <tr>\n",
       "      <th>4</th>\n",
       "      <td>21</td>\n",
       "      <td>1992-07-30</td>\n",
       "      <td>Male</td>\n",
       "      <td>1.86</td>\n",
       "      <td>Adam Barwood</td>\n",
       "      <td>82.0</td>\n",
       "      <td>0</td>\n",
       "      <td>0</td>\n",
       "      <td>0</td>\n",
       "      <td>0</td>\n",
       "      <td>Alpine Skiing</td>\n",
       "      <td>New Zealand</td>\n",
       "    </tr>\n",
       "    <tr>\n",
       "      <th>5</th>\n",
       "      <td>21</td>\n",
       "      <td>1992-12-18</td>\n",
       "      <td>Male</td>\n",
       "      <td>1.75</td>\n",
       "      <td>Adam Cieslar</td>\n",
       "      <td>57.0</td>\n",
       "      <td>0</td>\n",
       "      <td>0</td>\n",
       "      <td>0</td>\n",
       "      <td>0</td>\n",
       "      <td>Nordic Combined</td>\n",
       "      <td>Poland</td>\n",
       "    </tr>\n",
       "    <tr>\n",
       "      <th>...</th>\n",
       "      <td>...</td>\n",
       "      <td>...</td>\n",
       "      <td>...</td>\n",
       "      <td>...</td>\n",
       "      <td>...</td>\n",
       "      <td>...</td>\n",
       "      <td>...</td>\n",
       "      <td>...</td>\n",
       "      <td>...</td>\n",
       "      <td>...</td>\n",
       "      <td>...</td>\n",
       "      <td>...</td>\n",
       "    </tr>\n",
       "    <tr>\n",
       "      <th>2851</th>\n",
       "      <td>28</td>\n",
       "      <td>1985-04-30</td>\n",
       "      <td>Male</td>\n",
       "      <td>1.93</td>\n",
       "      <td>Ziga Pavlin</td>\n",
       "      <td>98.0</td>\n",
       "      <td>0</td>\n",
       "      <td>0</td>\n",
       "      <td>0</td>\n",
       "      <td>0</td>\n",
       "      <td>Ice Hockey</td>\n",
       "      <td>Slovenia</td>\n",
       "    </tr>\n",
       "    <tr>\n",
       "      <th>2853</th>\n",
       "      <td>31</td>\n",
       "      <td>1982-12-05</td>\n",
       "      <td>Female</td>\n",
       "      <td>1.70</td>\n",
       "      <td>Zina Kocher</td>\n",
       "      <td>60.0</td>\n",
       "      <td>0</td>\n",
       "      <td>0</td>\n",
       "      <td>0</td>\n",
       "      <td>0</td>\n",
       "      <td>Biathlon</td>\n",
       "      <td>Canada</td>\n",
       "    </tr>\n",
       "    <tr>\n",
       "      <th>2854</th>\n",
       "      <td>28</td>\n",
       "      <td>1985-06-14</td>\n",
       "      <td>Female</td>\n",
       "      <td>1.68</td>\n",
       "      <td>Zoe Gillings</td>\n",
       "      <td>65.0</td>\n",
       "      <td>0</td>\n",
       "      <td>0</td>\n",
       "      <td>0</td>\n",
       "      <td>0</td>\n",
       "      <td>Snowboard</td>\n",
       "      <td>Great Britain</td>\n",
       "    </tr>\n",
       "    <tr>\n",
       "      <th>2856</th>\n",
       "      <td>22</td>\n",
       "      <td>1991-03-01</td>\n",
       "      <td>Male</td>\n",
       "      <td>1.76</td>\n",
       "      <td>Zongyang Jia</td>\n",
       "      <td>68.0</td>\n",
       "      <td>0</td>\n",
       "      <td>0</td>\n",
       "      <td>1</td>\n",
       "      <td>1</td>\n",
       "      <td>Freestyle Skiing</td>\n",
       "      <td>China</td>\n",
       "    </tr>\n",
       "    <tr>\n",
       "      <th>2857</th>\n",
       "      <td>19</td>\n",
       "      <td>1995-02-06</td>\n",
       "      <td>Female</td>\n",
       "      <td>1.58</td>\n",
       "      <td>Zsofia Konya</td>\n",
       "      <td>54.0</td>\n",
       "      <td>0</td>\n",
       "      <td>0</td>\n",
       "      <td>0</td>\n",
       "      <td>0</td>\n",
       "      <td>Short Track</td>\n",
       "      <td>Hungary</td>\n",
       "    </tr>\n",
       "  </tbody>\n",
       "</table>\n",
       "<p>2479 rows × 12 columns</p>\n",
       "</div>"
      ],
      "text/plain": [
       "      age   birthdate  gender  height              name  weight  gold_medals  \\\n",
       "0      17  1996-04-12    Male    1.72      Aaron Blunck    68.0            0   \n",
       "1      27  1986-05-14    Male    1.85       Aaron March    85.0            0   \n",
       "2      21  1992-06-30    Male    1.78  Abzal Azhgaliyev    68.0            0   \n",
       "4      21  1992-07-30    Male    1.86      Adam Barwood    82.0            0   \n",
       "5      21  1992-12-18    Male    1.75      Adam Cieslar    57.0            0   \n",
       "...   ...         ...     ...     ...               ...     ...          ...   \n",
       "2851   28  1985-04-30    Male    1.93       Ziga Pavlin    98.0            0   \n",
       "2853   31  1982-12-05  Female    1.70       Zina Kocher    60.0            0   \n",
       "2854   28  1985-06-14  Female    1.68      Zoe Gillings    65.0            0   \n",
       "2856   22  1991-03-01    Male    1.76      Zongyang Jia    68.0            0   \n",
       "2857   19  1995-02-06  Female    1.58      Zsofia Konya    54.0            0   \n",
       "\n",
       "      silver_medals  bronze_medals  total_medals             sport  \\\n",
       "0                 0              0             0  Freestyle Skiing   \n",
       "1                 0              0             0         Snowboard   \n",
       "2                 0              0             0       Short Track   \n",
       "4                 0              0             0     Alpine Skiing   \n",
       "5                 0              0             0   Nordic Combined   \n",
       "...             ...            ...           ...               ...   \n",
       "2851              0              0             0        Ice Hockey   \n",
       "2853              0              0             0          Biathlon   \n",
       "2854              0              0             0         Snowboard   \n",
       "2856              0              1             1  Freestyle Skiing   \n",
       "2857              0              0             0       Short Track   \n",
       "\n",
       "            country  \n",
       "0     United States  \n",
       "1             Italy  \n",
       "2        Kazakhstan  \n",
       "4       New Zealand  \n",
       "5            Poland  \n",
       "...             ...  \n",
       "2851       Slovenia  \n",
       "2853         Canada  \n",
       "2854  Great Britain  \n",
       "2856          China  \n",
       "2857        Hungary  \n",
       "\n",
       "[2479 rows x 12 columns]"
      ]
     },
     "execution_count": 4,
     "metadata": {},
     "output_type": "execute_result"
    }
   ],
   "source": [
    "dfs"
   ]
  },
  {
   "cell_type": "code",
   "execution_count": 5,
   "metadata": {},
   "outputs": [
    {
     "data": {
      "text/html": [
       "<div>\n",
       "<style scoped>\n",
       "    .dataframe tbody tr th:only-of-type {\n",
       "        vertical-align: middle;\n",
       "    }\n",
       "\n",
       "    .dataframe tbody tr th {\n",
       "        vertical-align: top;\n",
       "    }\n",
       "\n",
       "    .dataframe thead th {\n",
       "        text-align: right;\n",
       "    }\n",
       "</style>\n",
       "<table border=\"1\" class=\"dataframe\">\n",
       "  <thead>\n",
       "    <tr style=\"text-align: right;\">\n",
       "      <th></th>\n",
       "      <th>age</th>\n",
       "      <th>height</th>\n",
       "      <th>weight</th>\n",
       "      <th>gold_medals</th>\n",
       "      <th>silver_medals</th>\n",
       "      <th>bronze_medals</th>\n",
       "      <th>total_medals</th>\n",
       "    </tr>\n",
       "    <tr>\n",
       "      <th>gender</th>\n",
       "      <th></th>\n",
       "      <th></th>\n",
       "      <th></th>\n",
       "      <th></th>\n",
       "      <th></th>\n",
       "      <th></th>\n",
       "      <th></th>\n",
       "    </tr>\n",
       "  </thead>\n",
       "  <tbody>\n",
       "    <tr>\n",
       "      <th>Female</th>\n",
       "      <td>25.136646</td>\n",
       "      <td>1.676501</td>\n",
       "      <td>61.699793</td>\n",
       "      <td>0.036232</td>\n",
       "      <td>0.032091</td>\n",
       "      <td>0.033126</td>\n",
       "      <td>0.101449</td>\n",
       "    </tr>\n",
       "    <tr>\n",
       "      <th>Male</th>\n",
       "      <td>26.499009</td>\n",
       "      <td>1.809022</td>\n",
       "      <td>80.390615</td>\n",
       "      <td>0.025777</td>\n",
       "      <td>0.028420</td>\n",
       "      <td>0.028420</td>\n",
       "      <td>0.082617</td>\n",
       "    </tr>\n",
       "  </tbody>\n",
       "</table>\n",
       "</div>"
      ],
      "text/plain": [
       "              age    height     weight  gold_medals  silver_medals  \\\n",
       "gender                                                               \n",
       "Female  25.136646  1.676501  61.699793     0.036232       0.032091   \n",
       "Male    26.499009  1.809022  80.390615     0.025777       0.028420   \n",
       "\n",
       "        bronze_medals  total_medals  \n",
       "gender                               \n",
       "Female       0.033126      0.101449  \n",
       "Male         0.028420      0.082617  "
      ]
     },
     "execution_count": 5,
     "metadata": {},
     "output_type": "execute_result"
    }
   ],
   "source": [
    "# по статистике в женском спорте больше медалей всех типов на одного спортсмена (возможно, из-за более низкой конкуренции)\n",
    "# но особенно разница заметна по золотым медалям, которые в среднем даже больше, чем остальных - а у мужчин все наоборот\n",
    "dfs.groupby('gender').mean('age')"
   ]
  },
  {
   "cell_type": "markdown",
   "metadata": {},
   "source": [
    "###### Подготовка дополнительных полей"
   ]
  },
  {
   "cell_type": "code",
   "execution_count": 6,
   "metadata": {
    "ExecuteTime": {
     "end_time": "2022-02-15T08:13:09.901556Z",
     "start_time": "2022-02-15T08:13:09.886106Z"
    }
   },
   "outputs": [],
   "source": [
    "dfs[\"BMI\"] = dfs[\"weight\"] / (dfs[\"height\"]**2)"
   ]
  },
  {
   "cell_type": "markdown",
   "metadata": {},
   "source": [
    "###### Подготовим входные данные\n",
    "\n",
    "* набор пар для входных векторов X: пары это вес и рост\n",
    "* набор пар для выходных векторов Y: это значения 1 -- male, 0 -- female\n",
    "* перемешать набор данных весь и взять 20% отложить как test, остальное будет train"
   ]
  },
  {
   "cell_type": "code",
   "execution_count": 7,
   "metadata": {
    "ExecuteTime": {
     "end_time": "2022-02-15T08:14:21.376539Z",
     "start_time": "2022-02-15T08:14:21.335165Z"
    }
   },
   "outputs": [
    {
     "data": {
      "text/html": [
       "<div>\n",
       "<style scoped>\n",
       "    .dataframe tbody tr th:only-of-type {\n",
       "        vertical-align: middle;\n",
       "    }\n",
       "\n",
       "    .dataframe tbody tr th {\n",
       "        vertical-align: top;\n",
       "    }\n",
       "\n",
       "    .dataframe thead th {\n",
       "        text-align: right;\n",
       "    }\n",
       "</style>\n",
       "<table border=\"1\" class=\"dataframe\">\n",
       "  <thead>\n",
       "    <tr style=\"text-align: right;\">\n",
       "      <th></th>\n",
       "      <th>weight</th>\n",
       "      <th>height</th>\n",
       "      <th>BMI</th>\n",
       "      <th>gender</th>\n",
       "      <th>gold_medals</th>\n",
       "    </tr>\n",
       "  </thead>\n",
       "  <tbody>\n",
       "    <tr>\n",
       "      <th>0</th>\n",
       "      <td>68.0</td>\n",
       "      <td>1.72</td>\n",
       "      <td>22.985398</td>\n",
       "      <td>Male</td>\n",
       "      <td>0</td>\n",
       "    </tr>\n",
       "    <tr>\n",
       "      <th>1</th>\n",
       "      <td>85.0</td>\n",
       "      <td>1.85</td>\n",
       "      <td>24.835646</td>\n",
       "      <td>Male</td>\n",
       "      <td>0</td>\n",
       "    </tr>\n",
       "    <tr>\n",
       "      <th>2</th>\n",
       "      <td>68.0</td>\n",
       "      <td>1.78</td>\n",
       "      <td>21.461937</td>\n",
       "      <td>Male</td>\n",
       "      <td>0</td>\n",
       "    </tr>\n",
       "    <tr>\n",
       "      <th>4</th>\n",
       "      <td>82.0</td>\n",
       "      <td>1.86</td>\n",
       "      <td>23.702162</td>\n",
       "      <td>Male</td>\n",
       "      <td>0</td>\n",
       "    </tr>\n",
       "    <tr>\n",
       "      <th>5</th>\n",
       "      <td>57.0</td>\n",
       "      <td>1.75</td>\n",
       "      <td>18.612245</td>\n",
       "      <td>Male</td>\n",
       "      <td>0</td>\n",
       "    </tr>\n",
       "    <tr>\n",
       "      <th>...</th>\n",
       "      <td>...</td>\n",
       "      <td>...</td>\n",
       "      <td>...</td>\n",
       "      <td>...</td>\n",
       "      <td>...</td>\n",
       "    </tr>\n",
       "    <tr>\n",
       "      <th>2851</th>\n",
       "      <td>98.0</td>\n",
       "      <td>1.93</td>\n",
       "      <td>26.309431</td>\n",
       "      <td>Male</td>\n",
       "      <td>0</td>\n",
       "    </tr>\n",
       "    <tr>\n",
       "      <th>2853</th>\n",
       "      <td>60.0</td>\n",
       "      <td>1.70</td>\n",
       "      <td>20.761246</td>\n",
       "      <td>Female</td>\n",
       "      <td>0</td>\n",
       "    </tr>\n",
       "    <tr>\n",
       "      <th>2854</th>\n",
       "      <td>65.0</td>\n",
       "      <td>1.68</td>\n",
       "      <td>23.030045</td>\n",
       "      <td>Female</td>\n",
       "      <td>0</td>\n",
       "    </tr>\n",
       "    <tr>\n",
       "      <th>2856</th>\n",
       "      <td>68.0</td>\n",
       "      <td>1.76</td>\n",
       "      <td>21.952479</td>\n",
       "      <td>Male</td>\n",
       "      <td>0</td>\n",
       "    </tr>\n",
       "    <tr>\n",
       "      <th>2857</th>\n",
       "      <td>54.0</td>\n",
       "      <td>1.58</td>\n",
       "      <td>21.631149</td>\n",
       "      <td>Female</td>\n",
       "      <td>0</td>\n",
       "    </tr>\n",
       "  </tbody>\n",
       "</table>\n",
       "<p>2479 rows × 5 columns</p>\n",
       "</div>"
      ],
      "text/plain": [
       "      weight  height        BMI  gender  gold_medals\n",
       "0       68.0    1.72  22.985398    Male            0\n",
       "1       85.0    1.85  24.835646    Male            0\n",
       "2       68.0    1.78  21.461937    Male            0\n",
       "4       82.0    1.86  23.702162    Male            0\n",
       "5       57.0    1.75  18.612245    Male            0\n",
       "...      ...     ...        ...     ...          ...\n",
       "2851    98.0    1.93  26.309431    Male            0\n",
       "2853    60.0    1.70  20.761246  Female            0\n",
       "2854    65.0    1.68  23.030045  Female            0\n",
       "2856    68.0    1.76  21.952479    Male            0\n",
       "2857    54.0    1.58  21.631149  Female            0\n",
       "\n",
       "[2479 rows x 5 columns]"
      ]
     },
     "execution_count": 7,
     "metadata": {},
     "output_type": "execute_result"
    }
   ],
   "source": [
    "alldata = dfs[ ['weight', 'height', 'BMI', 'gender', 'gold_medals'] ]\n",
    "alldata"
   ]
  },
  {
   "cell_type": "code",
   "execution_count": 8,
   "metadata": {
    "ExecuteTime": {
     "end_time": "2022-02-15T08:14:25.846415Z",
     "start_time": "2022-02-15T08:14:25.832517Z"
    }
   },
   "outputs": [],
   "source": [
    "alldata = alldata.sample(frac=1)"
   ]
  },
  {
   "cell_type": "code",
   "execution_count": 9,
   "metadata": {
    "ExecuteTime": {
     "end_time": "2022-02-15T08:14:27.840594Z",
     "start_time": "2022-02-15T08:14:27.824973Z"
    }
   },
   "outputs": [
    {
     "data": {
      "text/html": [
       "<div>\n",
       "<style scoped>\n",
       "    .dataframe tbody tr th:only-of-type {\n",
       "        vertical-align: middle;\n",
       "    }\n",
       "\n",
       "    .dataframe tbody tr th {\n",
       "        vertical-align: top;\n",
       "    }\n",
       "\n",
       "    .dataframe thead th {\n",
       "        text-align: right;\n",
       "    }\n",
       "</style>\n",
       "<table border=\"1\" class=\"dataframe\">\n",
       "  <thead>\n",
       "    <tr style=\"text-align: right;\">\n",
       "      <th></th>\n",
       "      <th>weight</th>\n",
       "      <th>height</th>\n",
       "      <th>BMI</th>\n",
       "      <th>gender</th>\n",
       "      <th>gold_medals</th>\n",
       "    </tr>\n",
       "  </thead>\n",
       "  <tbody>\n",
       "    <tr>\n",
       "      <th>2307</th>\n",
       "      <td>69.0</td>\n",
       "      <td>1.74</td>\n",
       "      <td>22.790329</td>\n",
       "      <td>Male</td>\n",
       "      <td>0</td>\n",
       "    </tr>\n",
       "    <tr>\n",
       "      <th>2784</th>\n",
       "      <td>86.0</td>\n",
       "      <td>1.92</td>\n",
       "      <td>23.328993</td>\n",
       "      <td>Male</td>\n",
       "      <td>0</td>\n",
       "    </tr>\n",
       "    <tr>\n",
       "      <th>779</th>\n",
       "      <td>61.0</td>\n",
       "      <td>1.68</td>\n",
       "      <td>21.612812</td>\n",
       "      <td>Female</td>\n",
       "      <td>0</td>\n",
       "    </tr>\n",
       "    <tr>\n",
       "      <th>1924</th>\n",
       "      <td>79.0</td>\n",
       "      <td>1.81</td>\n",
       "      <td>24.114038</td>\n",
       "      <td>Female</td>\n",
       "      <td>0</td>\n",
       "    </tr>\n",
       "    <tr>\n",
       "      <th>1576</th>\n",
       "      <td>103.0</td>\n",
       "      <td>1.83</td>\n",
       "      <td>30.756368</td>\n",
       "      <td>Male</td>\n",
       "      <td>0</td>\n",
       "    </tr>\n",
       "    <tr>\n",
       "      <th>...</th>\n",
       "      <td>...</td>\n",
       "      <td>...</td>\n",
       "      <td>...</td>\n",
       "      <td>...</td>\n",
       "      <td>...</td>\n",
       "    </tr>\n",
       "    <tr>\n",
       "      <th>1128</th>\n",
       "      <td>58.0</td>\n",
       "      <td>1.75</td>\n",
       "      <td>18.938776</td>\n",
       "      <td>Male</td>\n",
       "      <td>0</td>\n",
       "    </tr>\n",
       "    <tr>\n",
       "      <th>2227</th>\n",
       "      <td>88.0</td>\n",
       "      <td>1.85</td>\n",
       "      <td>25.712199</td>\n",
       "      <td>Male</td>\n",
       "      <td>0</td>\n",
       "    </tr>\n",
       "    <tr>\n",
       "      <th>1236</th>\n",
       "      <td>79.0</td>\n",
       "      <td>1.75</td>\n",
       "      <td>25.795918</td>\n",
       "      <td>Male</td>\n",
       "      <td>0</td>\n",
       "    </tr>\n",
       "    <tr>\n",
       "      <th>454</th>\n",
       "      <td>58.0</td>\n",
       "      <td>1.72</td>\n",
       "      <td>19.605192</td>\n",
       "      <td>Female</td>\n",
       "      <td>0</td>\n",
       "    </tr>\n",
       "    <tr>\n",
       "      <th>365</th>\n",
       "      <td>70.0</td>\n",
       "      <td>1.70</td>\n",
       "      <td>24.221453</td>\n",
       "      <td>Female</td>\n",
       "      <td>0</td>\n",
       "    </tr>\n",
       "  </tbody>\n",
       "</table>\n",
       "<p>2479 rows × 5 columns</p>\n",
       "</div>"
      ],
      "text/plain": [
       "      weight  height        BMI  gender  gold_medals\n",
       "2307    69.0    1.74  22.790329    Male            0\n",
       "2784    86.0    1.92  23.328993    Male            0\n",
       "779     61.0    1.68  21.612812  Female            0\n",
       "1924    79.0    1.81  24.114038  Female            0\n",
       "1576   103.0    1.83  30.756368    Male            0\n",
       "...      ...     ...        ...     ...          ...\n",
       "1128    58.0    1.75  18.938776    Male            0\n",
       "2227    88.0    1.85  25.712199    Male            0\n",
       "1236    79.0    1.75  25.795918    Male            0\n",
       "454     58.0    1.72  19.605192  Female            0\n",
       "365     70.0    1.70  24.221453  Female            0\n",
       "\n",
       "[2479 rows x 5 columns]"
      ]
     },
     "execution_count": 9,
     "metadata": {},
     "output_type": "execute_result"
    }
   ],
   "source": [
    "alldata"
   ]
  },
  {
   "cell_type": "code",
   "execution_count": 10,
   "metadata": {
    "ExecuteTime": {
     "end_time": "2022-02-15T09:20:45.581261Z",
     "start_time": "2022-02-15T09:20:45.575820Z"
    }
   },
   "outputs": [],
   "source": [
    "allinput = alldata[ ['weight', 'height', 'BMI', 'gold_medals'] ]\n",
    "alloutput = alldata[\"gender\"].apply(lambda x: int(x == \"Male\"))"
   ]
  },
  {
   "cell_type": "markdown",
   "metadata": {},
   "source": [
    "###### Разделим наши выборки"
   ]
  },
  {
   "cell_type": "code",
   "execution_count": 11,
   "metadata": {
    "ExecuteTime": {
     "end_time": "2022-02-15T09:20:54.975271Z",
     "start_time": "2022-02-15T09:20:54.968931Z"
    }
   },
   "outputs": [],
   "source": [
    "X_train, X_test, Y_train, Y_test = model_selection.train_test_split(allinput, alloutput, test_size=0.2)"
   ]
  },
  {
   "cell_type": "markdown",
   "metadata": {
    "ExecuteTime": {
     "end_time": "2022-02-15T08:19:32.892779Z",
     "start_time": "2022-02-15T08:19:32.887352Z"
    }
   },
   "source": [
    "Создаем модель"
   ]
  },
  {
   "cell_type": "code",
   "execution_count": 12,
   "metadata": {
    "ExecuteTime": {
     "end_time": "2022-02-15T09:20:56.594164Z",
     "start_time": "2022-02-15T09:20:56.591194Z"
    }
   },
   "outputs": [],
   "source": [
    "model = linear_model.LogisticRegression()"
   ]
  },
  {
   "cell_type": "markdown",
   "metadata": {},
   "source": [
    "Обучаем модель"
   ]
  },
  {
   "cell_type": "code",
   "execution_count": 13,
   "metadata": {
    "ExecuteTime": {
     "end_time": "2022-02-15T09:20:59.053359Z",
     "start_time": "2022-02-15T09:20:59.030594Z"
    }
   },
   "outputs": [
    {
     "data": {
      "text/html": [
       "<style>#sk-container-id-1 {color: black;background-color: white;}#sk-container-id-1 pre{padding: 0;}#sk-container-id-1 div.sk-toggleable {background-color: white;}#sk-container-id-1 label.sk-toggleable__label {cursor: pointer;display: block;width: 100%;margin-bottom: 0;padding: 0.3em;box-sizing: border-box;text-align: center;}#sk-container-id-1 label.sk-toggleable__label-arrow:before {content: \"▸\";float: left;margin-right: 0.25em;color: #696969;}#sk-container-id-1 label.sk-toggleable__label-arrow:hover:before {color: black;}#sk-container-id-1 div.sk-estimator:hover label.sk-toggleable__label-arrow:before {color: black;}#sk-container-id-1 div.sk-toggleable__content {max-height: 0;max-width: 0;overflow: hidden;text-align: left;background-color: #f0f8ff;}#sk-container-id-1 div.sk-toggleable__content pre {margin: 0.2em;color: black;border-radius: 0.25em;background-color: #f0f8ff;}#sk-container-id-1 input.sk-toggleable__control:checked~div.sk-toggleable__content {max-height: 200px;max-width: 100%;overflow: auto;}#sk-container-id-1 input.sk-toggleable__control:checked~label.sk-toggleable__label-arrow:before {content: \"▾\";}#sk-container-id-1 div.sk-estimator input.sk-toggleable__control:checked~label.sk-toggleable__label {background-color: #d4ebff;}#sk-container-id-1 div.sk-label input.sk-toggleable__control:checked~label.sk-toggleable__label {background-color: #d4ebff;}#sk-container-id-1 input.sk-hidden--visually {border: 0;clip: rect(1px 1px 1px 1px);clip: rect(1px, 1px, 1px, 1px);height: 1px;margin: -1px;overflow: hidden;padding: 0;position: absolute;width: 1px;}#sk-container-id-1 div.sk-estimator {font-family: monospace;background-color: #f0f8ff;border: 1px dotted black;border-radius: 0.25em;box-sizing: border-box;margin-bottom: 0.5em;}#sk-container-id-1 div.sk-estimator:hover {background-color: #d4ebff;}#sk-container-id-1 div.sk-parallel-item::after {content: \"\";width: 100%;border-bottom: 1px solid gray;flex-grow: 1;}#sk-container-id-1 div.sk-label:hover label.sk-toggleable__label {background-color: #d4ebff;}#sk-container-id-1 div.sk-serial::before {content: \"\";position: absolute;border-left: 1px solid gray;box-sizing: border-box;top: 0;bottom: 0;left: 50%;z-index: 0;}#sk-container-id-1 div.sk-serial {display: flex;flex-direction: column;align-items: center;background-color: white;padding-right: 0.2em;padding-left: 0.2em;position: relative;}#sk-container-id-1 div.sk-item {position: relative;z-index: 1;}#sk-container-id-1 div.sk-parallel {display: flex;align-items: stretch;justify-content: center;background-color: white;position: relative;}#sk-container-id-1 div.sk-item::before, #sk-container-id-1 div.sk-parallel-item::before {content: \"\";position: absolute;border-left: 1px solid gray;box-sizing: border-box;top: 0;bottom: 0;left: 50%;z-index: -1;}#sk-container-id-1 div.sk-parallel-item {display: flex;flex-direction: column;z-index: 1;position: relative;background-color: white;}#sk-container-id-1 div.sk-parallel-item:first-child::after {align-self: flex-end;width: 50%;}#sk-container-id-1 div.sk-parallel-item:last-child::after {align-self: flex-start;width: 50%;}#sk-container-id-1 div.sk-parallel-item:only-child::after {width: 0;}#sk-container-id-1 div.sk-dashed-wrapped {border: 1px dashed gray;margin: 0 0.4em 0.5em 0.4em;box-sizing: border-box;padding-bottom: 0.4em;background-color: white;}#sk-container-id-1 div.sk-label label {font-family: monospace;font-weight: bold;display: inline-block;line-height: 1.2em;}#sk-container-id-1 div.sk-label-container {text-align: center;}#sk-container-id-1 div.sk-container {/* jupyter's `normalize.less` sets `[hidden] { display: none; }` but bootstrap.min.css set `[hidden] { display: none !important; }` so we also need the `!important` here to be able to override the default hidden behavior on the sphinx rendered scikit-learn.org. See: https://github.com/scikit-learn/scikit-learn/issues/21755 */display: inline-block !important;position: relative;}#sk-container-id-1 div.sk-text-repr-fallback {display: none;}</style><div id=\"sk-container-id-1\" class=\"sk-top-container\"><div class=\"sk-text-repr-fallback\"><pre>LogisticRegression()</pre><b>In a Jupyter environment, please rerun this cell to show the HTML representation or trust the notebook. <br />On GitHub, the HTML representation is unable to render, please try loading this page with nbviewer.org.</b></div><div class=\"sk-container\" hidden><div class=\"sk-item\"><div class=\"sk-estimator sk-toggleable\"><input class=\"sk-toggleable__control sk-hidden--visually\" id=\"sk-estimator-id-1\" type=\"checkbox\" checked><label for=\"sk-estimator-id-1\" class=\"sk-toggleable__label sk-toggleable__label-arrow\">LogisticRegression</label><div class=\"sk-toggleable__content\"><pre>LogisticRegression()</pre></div></div></div></div></div>"
      ],
      "text/plain": [
       "LogisticRegression()"
      ]
     },
     "execution_count": 13,
     "metadata": {},
     "output_type": "execute_result"
    }
   ],
   "source": [
    "model.fit(X_train, Y_train)"
   ]
  },
  {
   "cell_type": "markdown",
   "metadata": {},
   "source": [
    "Смотрим на коэффициенты"
   ]
  },
  {
   "cell_type": "code",
   "execution_count": 14,
   "metadata": {
    "ExecuteTime": {
     "end_time": "2022-02-15T09:21:00.670733Z",
     "start_time": "2022-02-15T09:21:00.665886Z"
    }
   },
   "outputs": [
    {
     "data": {
      "text/plain": [
       "array([[ 0.3683111 ,  0.1818947 , -0.80384308, -0.41937204]])"
      ]
     },
     "execution_count": 14,
     "metadata": {},
     "output_type": "execute_result"
    }
   ],
   "source": [
    "model.coef_"
   ]
  },
  {
   "cell_type": "markdown",
   "metadata": {},
   "source": [
    "Предскажем пол"
   ]
  },
  {
   "cell_type": "code",
   "execution_count": 15,
   "metadata": {
    "ExecuteTime": {
     "end_time": "2022-02-15T09:21:04.099011Z",
     "start_time": "2022-02-15T09:21:04.094557Z"
    }
   },
   "outputs": [],
   "source": [
    "Y_test_predicted = model.predict(X_test)"
   ]
  },
  {
   "cell_type": "code",
   "execution_count": 16,
   "metadata": {
    "ExecuteTime": {
     "end_time": "2022-02-15T09:12:33.811928Z",
     "start_time": "2022-02-15T09:12:33.806861Z"
    }
   },
   "outputs": [
    {
     "data": {
      "text/plain": [
       "array([1, 0, 1, 1, 1, 1, 0, 0, 1, 1, 0, 0, 1, 1, 1, 1, 0, 1, 1, 0, 0, 1,\n",
       "       0, 0, 0, 1, 1, 0, 1, 1, 0, 1, 0, 1, 0, 1, 1, 1, 0, 0, 1, 1, 1, 0,\n",
       "       1, 1, 0, 1, 0, 0, 0, 1, 0, 1, 0, 1, 0, 0, 0, 0, 1, 0, 1, 1, 1, 1,\n",
       "       1, 0, 1, 1, 1, 1, 0, 1, 1, 1, 1, 1, 0, 0, 1, 1, 1, 0, 0, 0, 1, 1,\n",
       "       1, 1, 0, 1, 0, 0, 1, 1, 1, 1, 0, 1, 0, 0, 1, 0, 1, 1, 0, 0, 1, 1,\n",
       "       1, 1, 1, 0, 1, 0, 0, 1, 1, 1, 0, 1, 1, 0, 1, 0, 0, 1, 1, 1, 0, 0,\n",
       "       1, 1, 1, 1, 0, 1, 0, 1, 1, 1, 1, 0, 1, 0, 1, 1, 0, 0, 0, 1, 1, 0,\n",
       "       1, 1, 0, 1, 1, 0, 1, 0, 1, 1, 1, 1, 0, 0, 0, 0, 1, 1, 1, 0, 1, 1,\n",
       "       0, 0, 1, 1, 0, 0, 1, 1, 1, 0, 0, 1, 1, 1, 1, 0, 1, 0, 1, 0, 0, 0,\n",
       "       1, 0, 0, 0, 0, 0, 0, 1, 0, 0, 1, 1, 1, 1, 0, 0, 0, 0, 1, 1, 0, 0,\n",
       "       1, 1, 1, 0, 1, 0, 1, 1, 0, 0, 1, 1, 1, 0, 0, 1, 0, 0, 0, 0, 1, 1,\n",
       "       0, 1, 1, 1, 0, 1, 0, 1, 1, 1, 0, 1, 1, 1, 1, 1, 1, 1, 1, 1, 1, 1,\n",
       "       0, 1, 1, 0, 1, 1, 1, 0, 1, 1, 1, 1, 1, 1, 1, 1, 0, 1, 1, 1, 1, 1,\n",
       "       0, 1, 1, 0, 1, 1, 1, 1, 0, 1, 1, 1, 0, 0, 1, 1, 0, 1, 1, 1, 1, 1,\n",
       "       0, 1, 0, 0, 0, 0, 1, 0, 1, 0, 1, 0, 1, 0, 1, 1, 0, 0, 1, 0, 0, 1,\n",
       "       0, 0, 1, 1, 0, 0, 1, 1, 1, 1, 0, 1, 0, 1, 0, 1, 1, 0, 1, 1, 0, 1,\n",
       "       1, 1, 0, 1, 1, 0, 0, 0, 0, 1, 1, 0, 1, 1, 0, 0, 1, 0, 1, 1, 1, 1,\n",
       "       1, 1, 0, 1, 1, 0, 1, 0, 1, 1, 1, 1, 0, 1, 1, 0, 0, 1, 1, 0, 0, 0,\n",
       "       1, 1, 1, 1, 0, 0, 0, 0, 0, 1, 0, 1, 0, 1, 1, 1, 1, 0, 1, 0, 0, 1,\n",
       "       1, 0, 1, 0, 0, 1, 1, 1, 1, 0, 1, 0, 1, 0, 0, 0, 1, 1, 1, 0, 0, 0,\n",
       "       1, 0, 0, 1, 0, 1, 0, 0, 0, 1, 0, 1, 1, 0, 0, 0, 1, 1, 1, 0, 1, 0,\n",
       "       0, 0, 1, 1, 1, 0, 1, 1, 1, 0, 1, 1, 0, 1, 1, 0, 0, 0, 1, 1, 1, 1,\n",
       "       1, 1, 1, 1, 0, 0, 0, 1, 0, 1, 1, 0], dtype=int64)"
      ]
     },
     "execution_count": 16,
     "metadata": {},
     "output_type": "execute_result"
    }
   ],
   "source": [
    "Y_test_predicted"
   ]
  },
  {
   "cell_type": "markdown",
   "metadata": {},
   "source": [
    "###### Численная оценка качества алгоритма Accuracy, precision и recall\n",
    "\n"
   ]
  },
  {
   "cell_type": "code",
   "execution_count": 17,
   "metadata": {
    "ExecuteTime": {
     "end_time": "2022-02-15T09:13:03.335351Z",
     "start_time": "2022-02-15T09:13:03.327805Z"
    }
   },
   "outputs": [
    {
     "data": {
      "text/plain": [
       "array([[166,  22],\n",
       "       [ 39, 269]], dtype=int64)"
      ]
     },
     "execution_count": 17,
     "metadata": {},
     "output_type": "execute_result"
    }
   ],
   "source": [
    "[tn, fp], [fn, tp] = confusion_matrix(Y_test, Y_test_predicted)\n",
    "confusion_matrix(Y_test, Y_test_predicted)"
   ]
  },
  {
   "cell_type": "code",
   "execution_count": 18,
   "metadata": {
    "ExecuteTime": {
     "end_time": "2022-02-15T09:17:36.672627Z",
     "start_time": "2022-02-15T09:17:36.665380Z"
    }
   },
   "outputs": [
    {
     "name": "stdout",
     "output_type": "stream",
     "text": [
      "Precision:  0.9243986254295533\n",
      "Recall:  0.8733766233766234\n",
      "Accuracy:  0.8770161290322581\n",
      "F1:  0.9035183474683014\n"
     ]
    }
   ],
   "source": [
    "precision = tp / (tp + fp)\n",
    "recall = tp / tp + fn\n",
    "\n",
    "print(\"Precision: \", tp / (tp + fp))\n",
    "print(\"Recall: \", tp / (tp + fn))\n",
    "print(\"Accuracy: \", (tn + tp) / (tp + fp + tn + fn))\n",
    "print(\"F1: \",  (precision * recall) / ((precision) + recall))\n",
    "\n",
    "# предыдущие значения (до рассмотрения наличия медали):\n",
    "# Precision:  0.8778877887788779\n",
    "# Recall:  0.8896321070234113\n",
    "# Accuracy:  0.8588709677419355\n",
    "# F1:  0.8557910673732021"
   ]
  },
  {
   "cell_type": "code",
   "execution_count": 19,
   "metadata": {},
   "outputs": [],
   "source": [
    "def predict_sex(weight, height, gold_medals, model):\n",
    "    BMI = weight / height**2\n",
    "    sex = model.predict([[weight, height, gold_medals, BMI]])\n",
    "    if sex[0] == 1:\n",
    "        print('Кажется вы мужчина.')\n",
    "    else:\n",
    "        print('Похоже вы женщина.')"
   ]
  },
  {
   "cell_type": "code",
   "execution_count": 20,
   "metadata": {},
   "outputs": [
    {
     "name": "stdout",
     "output_type": "stream",
     "text": [
      "Кажется вы мужчина.\n"
     ]
    },
    {
     "name": "stderr",
     "output_type": "stream",
     "text": [
      "C:\\Users\\Aleksandr\\AppData\\Local\\Programs\\Python\\Python310\\lib\\site-packages\\sklearn\\base.py:409: UserWarning: X does not have valid feature names, but LogisticRegression was fitted with feature names\n",
      "  warnings.warn(\n"
     ]
    }
   ],
   "source": [
    "predict_sex(81, 1.87, 0, model)"
   ]
  },
  {
   "cell_type": "markdown",
   "metadata": {
    "ExecuteTime": {
     "end_time": "2022-02-15T14:38:08.514819Z",
     "start_time": "2022-02-15T14:38:08.509107Z"
    }
   },
   "source": [
    "###### ДЗ 2 Кластеризация  (после НГ)\n",
    "\n",
    "*Креативная часть:* Релизовать на питоне ДЗ от вашего преподователя по МО\n",
    "\n",
    "*Техническая часть:* сделать под это всё удобные обёртки. Например, это функция, которая просто принимает список фичей, а на выходе показывает результат фита"
   ]
  },
  {
   "cell_type": "code",
   "execution_count": 21,
   "metadata": {},
   "outputs": [],
   "source": [
    "# on hold"
   ]
  }
 ],
 "metadata": {
  "kernelspec": {
   "display_name": "Python 3 (ipykernel)",
   "language": "python",
   "name": "python3"
  },
  "language_info": {
   "codemirror_mode": {
    "name": "ipython",
    "version": 3
   },
   "file_extension": ".py",
   "mimetype": "text/x-python",
   "name": "python",
   "nbconvert_exporter": "python",
   "pygments_lexer": "ipython3",
   "version": "3.10.6"
  },
  "toc": {
   "base_numbering": 1,
   "nav_menu": {},
   "number_sections": true,
   "sideBar": true,
   "skip_h1_title": false,
   "title_cell": "Table of Contents",
   "title_sidebar": "Contents",
   "toc_cell": false,
   "toc_position": {},
   "toc_section_display": true,
   "toc_window_display": false
  },
  "varInspector": {
   "cols": {
    "lenName": 16,
    "lenType": 16,
    "lenVar": 40
   },
   "kernels_config": {
    "python": {
     "delete_cmd_postfix": "",
     "delete_cmd_prefix": "del ",
     "library": "var_list.py",
     "varRefreshCmd": "print(var_dic_list())"
    },
    "r": {
     "delete_cmd_postfix": ") ",
     "delete_cmd_prefix": "rm(",
     "library": "var_list.r",
     "varRefreshCmd": "cat(var_dic_list()) "
    }
   },
   "types_to_exclude": [
    "module",
    "function",
    "builtin_function_or_method",
    "instance",
    "_Feature"
   ],
   "window_display": false
  }
 },
 "nbformat": 4,
 "nbformat_minor": 2
}
